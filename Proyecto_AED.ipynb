{
  "cells": [
    {
      "cell_type": "markdown",
      "metadata": {
        "colab_type": "text",
        "id": "view-in-github"
      },
      "source": [
        "<a href=\"https://colab.research.google.com/github/Leo646/IA_MachineLearning/blob/master/Proyecto_AED.ipynb\" target=\"_parent\"><img src=\"https://colab.research.google.com/assets/colab-badge.svg\" alt=\"Open In Colab\"/></a>"
      ]
    },
    {
      "cell_type": "code",
      "execution_count": 1,
      "metadata": {
        "id": "6ewjYFw-84dA"
      },
      "outputs": [],
      "source": [
        "import numpy as np  \n",
        "import pandas as pd \n",
        "import matplotlib.pyplot as plt \n",
        "import seaborn as sb \n",
        "import warnings \n",
        "warnings.filterwarnings('ignore') \n",
        "from sklearn.model_selection import train_test_split\n",
        "from sklearn.neighbors import KNeighborsClassifier\n",
        "from sklearn.metrics import confusion_matrix\n",
        "\n",
        "from joblib import dump, load\n",
        "%matplotlib inline"
      ]
    },
    {
      "cell_type": "markdown",
      "metadata": {
        "id": "kM65jstWfLS0"
      },
      "source": [
        "#**UNIVERSIDAD NACIONAL DE LOJA**\n",
        "\n",
        "####**Carrera de Ingenieria en Sistemas** \n",
        "\n",
        "\n",
        "\n",
        "1.   Leonardo Paredes\n",
        "\n"
      ]
    },
    {
      "cell_type": "markdown",
      "metadata": {
        "id": "vSUccVJHiQjn"
      },
      "source": [
        "##**1.  Introduccion**\n",
        "\n",
        "\n"
      ]
    },
    {
      "cell_type": "markdown",
      "metadata": {
        "id": "WnQbzpBlf7mh"
      },
      "source": [
        "El presente proyecto tiene como objetivo el análisis exploratorio de datos de un  dataset denominado \"Student Performance Data Set (conjunto de datos de rendimiento del estudiante)\", estos datos abordan el rendimiento de los estudiantes en la educación secundaria de dos escuelas portuguesas. Los atributos de los datos incluyen calificaciones de los estudiantes, características demográficas, sociales y relacionadas con la escuela.\n"
      ]
    },
    {
      "cell_type": "markdown",
      "metadata": {
        "id": "QS69WM9qm8n_"
      },
      "source": [
        "###**1.  Cargar Datos**\n",
        "\n",
        "El primer paso es cargar los datos necesarios. Se debe utilizar  el comando read_csv de la biblioteca pandas para cargar el conjunto de datos \"Student Performance Data Set\". Después de cargar los datos en un marco de datos, se muestra la parte superior del conjunto de datos. La URL donde se puede descarg el conjunto de datos es la siguiente: https://archive.ics.uci.edu/ml/datasets/Student+Performance"
      ]
    },
    {
      "cell_type": "code",
      "execution_count": 4,
      "metadata": {
        "colab": {
          "base_uri": "https://localhost:8080/",
          "height": 270
        },
        "id": "d8mpKetDoNWR",
        "outputId": "902c990a-62af-43c1-fd34-f1bac6c631b3"
      },
      "outputs": [
        {
          "data": {
            "text/html": [
              "\n",
              "  <div id=\"df-49907ab6-3e7e-46aa-9e52-0f490a289cd9\">\n",
              "    <div class=\"colab-df-container\">\n",
              "      <div>\n",
              "<style scoped>\n",
              "    .dataframe tbody tr th:only-of-type {\n",
              "        vertical-align: middle;\n",
              "    }\n",
              "\n",
              "    .dataframe tbody tr th {\n",
              "        vertical-align: top;\n",
              "    }\n",
              "\n",
              "    .dataframe thead th {\n",
              "        text-align: right;\n",
              "    }\n",
              "</style>\n",
              "<table border=\"1\" class=\"dataframe\">\n",
              "  <thead>\n",
              "    <tr style=\"text-align: right;\">\n",
              "      <th></th>\n",
              "      <th>school</th>\n",
              "      <th>sex</th>\n",
              "      <th>age</th>\n",
              "      <th>address</th>\n",
              "      <th>famsize</th>\n",
              "      <th>Pstatus</th>\n",
              "      <th>Medu</th>\n",
              "      <th>Fedu</th>\n",
              "      <th>Mjob</th>\n",
              "      <th>Fjob</th>\n",
              "      <th>reason</th>\n",
              "      <th>guardian</th>\n",
              "      <th>traveltime</th>\n",
              "      <th>studytime</th>\n",
              "      <th>failures</th>\n",
              "      <th>schoolsup</th>\n",
              "      <th>famsup</th>\n",
              "      <th>paid</th>\n",
              "      <th>activities</th>\n",
              "      <th>nursery</th>\n",
              "      <th>higher</th>\n",
              "      <th>internet</th>\n",
              "      <th>romantic</th>\n",
              "      <th>famrel</th>\n",
              "      <th>freetime</th>\n",
              "      <th>goout</th>\n",
              "      <th>Dalc</th>\n",
              "      <th>Walc</th>\n",
              "      <th>health</th>\n",
              "      <th>absences</th>\n",
              "      <th>G1</th>\n",
              "      <th>G2</th>\n",
              "      <th>G3</th>\n",
              "    </tr>\n",
              "  </thead>\n",
              "  <tbody>\n",
              "    <tr>\n",
              "      <th>0</th>\n",
              "      <td>GP</td>\n",
              "      <td>F</td>\n",
              "      <td>18</td>\n",
              "      <td>U</td>\n",
              "      <td>GT3</td>\n",
              "      <td>A</td>\n",
              "      <td>4</td>\n",
              "      <td>4</td>\n",
              "      <td>at_home</td>\n",
              "      <td>teacher</td>\n",
              "      <td>course</td>\n",
              "      <td>mother</td>\n",
              "      <td>2</td>\n",
              "      <td>2</td>\n",
              "      <td>0</td>\n",
              "      <td>yes</td>\n",
              "      <td>no</td>\n",
              "      <td>no</td>\n",
              "      <td>no</td>\n",
              "      <td>yes</td>\n",
              "      <td>yes</td>\n",
              "      <td>no</td>\n",
              "      <td>no</td>\n",
              "      <td>4</td>\n",
              "      <td>3</td>\n",
              "      <td>4</td>\n",
              "      <td>1</td>\n",
              "      <td>1</td>\n",
              "      <td>3</td>\n",
              "      <td>6</td>\n",
              "      <td>5</td>\n",
              "      <td>6</td>\n",
              "      <td>6</td>\n",
              "    </tr>\n",
              "    <tr>\n",
              "      <th>1</th>\n",
              "      <td>GP</td>\n",
              "      <td>F</td>\n",
              "      <td>17</td>\n",
              "      <td>U</td>\n",
              "      <td>GT3</td>\n",
              "      <td>T</td>\n",
              "      <td>1</td>\n",
              "      <td>1</td>\n",
              "      <td>at_home</td>\n",
              "      <td>other</td>\n",
              "      <td>course</td>\n",
              "      <td>father</td>\n",
              "      <td>1</td>\n",
              "      <td>2</td>\n",
              "      <td>0</td>\n",
              "      <td>no</td>\n",
              "      <td>yes</td>\n",
              "      <td>no</td>\n",
              "      <td>no</td>\n",
              "      <td>no</td>\n",
              "      <td>yes</td>\n",
              "      <td>yes</td>\n",
              "      <td>no</td>\n",
              "      <td>5</td>\n",
              "      <td>3</td>\n",
              "      <td>3</td>\n",
              "      <td>1</td>\n",
              "      <td>1</td>\n",
              "      <td>3</td>\n",
              "      <td>4</td>\n",
              "      <td>5</td>\n",
              "      <td>5</td>\n",
              "      <td>6</td>\n",
              "    </tr>\n",
              "    <tr>\n",
              "      <th>2</th>\n",
              "      <td>GP</td>\n",
              "      <td>F</td>\n",
              "      <td>15</td>\n",
              "      <td>U</td>\n",
              "      <td>LE3</td>\n",
              "      <td>T</td>\n",
              "      <td>1</td>\n",
              "      <td>1</td>\n",
              "      <td>at_home</td>\n",
              "      <td>other</td>\n",
              "      <td>other</td>\n",
              "      <td>mother</td>\n",
              "      <td>1</td>\n",
              "      <td>2</td>\n",
              "      <td>3</td>\n",
              "      <td>yes</td>\n",
              "      <td>no</td>\n",
              "      <td>yes</td>\n",
              "      <td>no</td>\n",
              "      <td>yes</td>\n",
              "      <td>yes</td>\n",
              "      <td>yes</td>\n",
              "      <td>no</td>\n",
              "      <td>4</td>\n",
              "      <td>3</td>\n",
              "      <td>2</td>\n",
              "      <td>2</td>\n",
              "      <td>3</td>\n",
              "      <td>3</td>\n",
              "      <td>10</td>\n",
              "      <td>7</td>\n",
              "      <td>8</td>\n",
              "      <td>10</td>\n",
              "    </tr>\n",
              "    <tr>\n",
              "      <th>3</th>\n",
              "      <td>GP</td>\n",
              "      <td>F</td>\n",
              "      <td>15</td>\n",
              "      <td>U</td>\n",
              "      <td>GT3</td>\n",
              "      <td>T</td>\n",
              "      <td>4</td>\n",
              "      <td>2</td>\n",
              "      <td>health</td>\n",
              "      <td>services</td>\n",
              "      <td>home</td>\n",
              "      <td>mother</td>\n",
              "      <td>1</td>\n",
              "      <td>3</td>\n",
              "      <td>0</td>\n",
              "      <td>no</td>\n",
              "      <td>yes</td>\n",
              "      <td>yes</td>\n",
              "      <td>yes</td>\n",
              "      <td>yes</td>\n",
              "      <td>yes</td>\n",
              "      <td>yes</td>\n",
              "      <td>yes</td>\n",
              "      <td>3</td>\n",
              "      <td>2</td>\n",
              "      <td>2</td>\n",
              "      <td>1</td>\n",
              "      <td>1</td>\n",
              "      <td>5</td>\n",
              "      <td>2</td>\n",
              "      <td>15</td>\n",
              "      <td>14</td>\n",
              "      <td>15</td>\n",
              "    </tr>\n",
              "    <tr>\n",
              "      <th>4</th>\n",
              "      <td>GP</td>\n",
              "      <td>F</td>\n",
              "      <td>16</td>\n",
              "      <td>U</td>\n",
              "      <td>GT3</td>\n",
              "      <td>T</td>\n",
              "      <td>3</td>\n",
              "      <td>3</td>\n",
              "      <td>other</td>\n",
              "      <td>other</td>\n",
              "      <td>home</td>\n",
              "      <td>father</td>\n",
              "      <td>1</td>\n",
              "      <td>2</td>\n",
              "      <td>0</td>\n",
              "      <td>no</td>\n",
              "      <td>yes</td>\n",
              "      <td>yes</td>\n",
              "      <td>no</td>\n",
              "      <td>yes</td>\n",
              "      <td>yes</td>\n",
              "      <td>no</td>\n",
              "      <td>no</td>\n",
              "      <td>4</td>\n",
              "      <td>3</td>\n",
              "      <td>2</td>\n",
              "      <td>1</td>\n",
              "      <td>2</td>\n",
              "      <td>5</td>\n",
              "      <td>4</td>\n",
              "      <td>6</td>\n",
              "      <td>10</td>\n",
              "      <td>10</td>\n",
              "    </tr>\n",
              "  </tbody>\n",
              "</table>\n",
              "</div>\n",
              "      <button class=\"colab-df-convert\" onclick=\"convertToInteractive('df-49907ab6-3e7e-46aa-9e52-0f490a289cd9')\"\n",
              "              title=\"Convert this dataframe to an interactive table.\"\n",
              "              style=\"display:none;\">\n",
              "        \n",
              "  <svg xmlns=\"http://www.w3.org/2000/svg\" height=\"24px\"viewBox=\"0 0 24 24\"\n",
              "       width=\"24px\">\n",
              "    <path d=\"M0 0h24v24H0V0z\" fill=\"none\"/>\n",
              "    <path d=\"M18.56 5.44l.94 2.06.94-2.06 2.06-.94-2.06-.94-.94-2.06-.94 2.06-2.06.94zm-11 1L8.5 8.5l.94-2.06 2.06-.94-2.06-.94L8.5 2.5l-.94 2.06-2.06.94zm10 10l.94 2.06.94-2.06 2.06-.94-2.06-.94-.94-2.06-.94 2.06-2.06.94z\"/><path d=\"M17.41 7.96l-1.37-1.37c-.4-.4-.92-.59-1.43-.59-.52 0-1.04.2-1.43.59L10.3 9.45l-7.72 7.72c-.78.78-.78 2.05 0 2.83L4 21.41c.39.39.9.59 1.41.59.51 0 1.02-.2 1.41-.59l7.78-7.78 2.81-2.81c.8-.78.8-2.07 0-2.86zM5.41 20L4 18.59l7.72-7.72 1.47 1.35L5.41 20z\"/>\n",
              "  </svg>\n",
              "      </button>\n",
              "      \n",
              "  <style>\n",
              "    .colab-df-container {\n",
              "      display:flex;\n",
              "      flex-wrap:wrap;\n",
              "      gap: 12px;\n",
              "    }\n",
              "\n",
              "    .colab-df-convert {\n",
              "      background-color: #E8F0FE;\n",
              "      border: none;\n",
              "      border-radius: 50%;\n",
              "      cursor: pointer;\n",
              "      display: none;\n",
              "      fill: #1967D2;\n",
              "      height: 32px;\n",
              "      padding: 0 0 0 0;\n",
              "      width: 32px;\n",
              "    }\n",
              "\n",
              "    .colab-df-convert:hover {\n",
              "      background-color: #E2EBFA;\n",
              "      box-shadow: 0px 1px 2px rgba(60, 64, 67, 0.3), 0px 1px 3px 1px rgba(60, 64, 67, 0.15);\n",
              "      fill: #174EA6;\n",
              "    }\n",
              "\n",
              "    [theme=dark] .colab-df-convert {\n",
              "      background-color: #3B4455;\n",
              "      fill: #D2E3FC;\n",
              "    }\n",
              "\n",
              "    [theme=dark] .colab-df-convert:hover {\n",
              "      background-color: #434B5C;\n",
              "      box-shadow: 0px 1px 3px 1px rgba(0, 0, 0, 0.15);\n",
              "      filter: drop-shadow(0px 1px 2px rgba(0, 0, 0, 0.3));\n",
              "      fill: #FFFFFF;\n",
              "    }\n",
              "  </style>\n",
              "\n",
              "      <script>\n",
              "        const buttonEl =\n",
              "          document.querySelector('#df-49907ab6-3e7e-46aa-9e52-0f490a289cd9 button.colab-df-convert');\n",
              "        buttonEl.style.display =\n",
              "          google.colab.kernel.accessAllowed ? 'block' : 'none';\n",
              "\n",
              "        async function convertToInteractive(key) {\n",
              "          const element = document.querySelector('#df-49907ab6-3e7e-46aa-9e52-0f490a289cd9');\n",
              "          const dataTable =\n",
              "            await google.colab.kernel.invokeFunction('convertToInteractive',\n",
              "                                                     [key], {});\n",
              "          if (!dataTable) return;\n",
              "\n",
              "          const docLinkHtml = 'Like what you see? Visit the ' +\n",
              "            '<a target=\"_blank\" href=https://colab.research.google.com/notebooks/data_table.ipynb>data table notebook</a>'\n",
              "            + ' to learn more about interactive tables.';\n",
              "          element.innerHTML = '';\n",
              "          dataTable['output_type'] = 'display_data';\n",
              "          await google.colab.output.renderOutput(dataTable, element);\n",
              "          const docLink = document.createElement('div');\n",
              "          docLink.innerHTML = docLinkHtml;\n",
              "          element.appendChild(docLink);\n",
              "        }\n",
              "      </script>\n",
              "    </div>\n",
              "  </div>\n",
              "  "
            ],
            "text/plain": [
              "  school sex  age address famsize Pstatus  ...  Walc  health absences  G1  G2  G3\n",
              "0     GP   F   18       U     GT3       A  ...     1       3        6   5   6   6\n",
              "1     GP   F   17       U     GT3       T  ...     1       3        4   5   5   6\n",
              "2     GP   F   15       U     LE3       T  ...     3       3       10   7   8  10\n",
              "3     GP   F   15       U     GT3       T  ...     1       5        2  15  14  15\n",
              "4     GP   F   16       U     GT3       T  ...     2       5        4   6  10  10\n",
              "\n",
              "[5 rows x 33 columns]"
            ]
          },
          "execution_count": 4,
          "metadata": {},
          "output_type": "execute_result"
        }
      ],
      "source": [
        "url='https://raw.githubusercontent.com/Leo646/IA_MachineLearning/master/Dataset/student-mat.csv'\n",
        "df = pd.read_csv(url)\n",
        "df.head()"
      ]
    },
    {
      "cell_type": "markdown",
      "metadata": {
        "id": "WDpuJNeakcSv"
      },
      "source": [
        "###**2. Analisis y Exploracion de los Datos**\n",
        "\n",
        "Después de cargar el conjunto de datos en un marco de datos en la memoria, el siguiente paso es realizar un análisis de datos exploratorio. El objetivo de la AED es descubrir la mayor cantidad de información posible sobre el conjunto de datos. El método describe() es un buen punto de partida. E\n",
        "\n",
        "\n"
      ]
    },
    {
      "cell_type": "markdown",
      "metadata": {
        "id": "c-fqEeHioeYV"
      },
      "source": [
        "####**2.1 de Variables**"
      ]
    },
    {
      "cell_type": "code",
      "execution_count": null,
      "metadata": {
        "colab": {
          "base_uri": "https://localhost:8080/"
        },
        "id": "N8CPYDZaon0w",
        "outputId": "60bbde30-6183-4ccb-8a93-3c78008dacfc"
      },
      "outputs": [
        {
          "data": {
            "text/plain": [
              "school        object\n",
              "sex           object\n",
              "age            int64\n",
              "address       object\n",
              "famsize       object\n",
              "Pstatus       object\n",
              "Medu           int64\n",
              "Fedu           int64\n",
              "Mjob          object\n",
              "Fjob          object\n",
              "reason        object\n",
              "guardian      object\n",
              "traveltime     int64\n",
              "studytime      int64\n",
              "failures       int64\n",
              "schoolsup     object\n",
              "famsup        object\n",
              "paid          object\n",
              "activities    object\n",
              "nursery       object\n",
              "higher        object\n",
              "internet      object\n",
              "romantic      object\n",
              "famrel         int64\n",
              "freetime       int64\n",
              "goout          int64\n",
              "Dalc           int64\n",
              "Walc           int64\n",
              "health         int64\n",
              "absences       int64\n",
              "G1             int64\n",
              "G2             int64\n",
              "G3             int64\n",
              "dtype: object"
            ]
          },
          "execution_count": 51,
          "metadata": {},
          "output_type": "execute_result"
        }
      ],
      "source": [
        "df.dtypes"
      ]
    },
    {
      "cell_type": "markdown",
      "metadata": {
        "id": "VR3FCFjPqbBu"
      },
      "source": [
        "### **TIPOS DE VARIABLES**\n",
        "**Cualitativas (categóricas)**\n",
        "\n",
        "\n",
        "*   **Nominales**\n",
        "  *   Sexo\n",
        "  *   Mjob(trabajo de la madre)\n",
        "  *   Fjob(trabajo del padre)\n",
        "  *   razón(razón para elegir esta escuela)\n",
        "  *   tutor(tutor del estudiante)\n",
        "  *   familia\n",
        "  *   tiempo libre\n",
        "  *   salidas\n",
        "  *   Dalc\n",
        "  *   Walc\n",
        "  *   salud\n",
        "\n",
        "*   **Binarios**\n",
        "  *   Escuela\n",
        "  *   dirección\n",
        "  *   famsize\n",
        "  *   Pstatus\n",
        "  *   schoolup\n",
        "  *   Famsup\n",
        "  *   actividades\n",
        "  *   pagadas\n",
        "  *   guardería\n",
        "  *   superior\n",
        "  *   internet\n",
        "  *   romantico\n",
        "\n",
        "*    **Ordinales**\n",
        "  *   Medu\n",
        "  *   Fedu \n",
        "\n",
        "**Cuantitativas (numéricas)**\n",
        "\n",
        "*    **Discretas**\n",
        "  *   edad\n",
        "  *   ausencias\n",
        "\n",
        "*    **Continuas**\n",
        "  *   tiempo de viaje\n",
        "  *   tiempo de estudio\n",
        "  *   fallas\n",
        "  *   G1\n",
        "  *   G2\n",
        "  *   G3\n"
      ]
    },
    {
      "cell_type": "markdown",
      "metadata": {
        "id": "r3DF__Kvrks-"
      },
      "source": [
        "**Representación Gráfica de las notas finales de los estudiantes**\n",
        "\n"
      ]
    },
    {
      "cell_type": "code",
      "execution_count": null,
      "metadata": {
        "colab": {
          "base_uri": "https://localhost:8080/",
          "height": 295
        },
        "id": "nwthKUk2rltf",
        "outputId": "35adb32f-3a1a-4285-d8fd-f71cfaa7e427"
      },
      "outputs": [
        {
          "data": {
            "image/png": "[encoded data removed]",
            "text/plain": [
              "<Figure size 432x288 with 1 Axes>"
            ]
          },
          "metadata": {
            "needs_background": "light"
          },
          "output_type": "display_data"
        }
      ],
      "source": [
        "df['G3'].describe()\n",
        "plt.hist(x=df['G3'], color='#339EFF', rwidth=0.85)\n",
        "plt.title('Nota final de los estudiantes')\n",
        "plt.xlabel('G3: Notas Finales')\n",
        "plt.ylabel('Frecuencia')\n",
        "\n",
        "plt.show() #dibujamos el histograma"
      ]
    },
    {
      "cell_type": "markdown",
      "metadata": {
        "id": "FCTShSYdvd5W"
      },
      "source": [
        "**Minimo y maximo **\n"
      ]
    },
    {
      "cell_type": "code",
      "execution_count": null,
      "metadata": {
        "colab": {
          "base_uri": "https://localhost:8080/"
        },
        "id": "KbSp7xlzvmLv",
        "outputId": "d55472ed-62eb-4ab2-d882-fd73a63360dd"
      },
      "outputs": [
        {
          "name": "stdout",
          "output_type": "stream",
          "text": [
            "El minimo es:  0\n",
            "El maximo es:  20\n"
          ]
        }
      ],
      "source": [
        "minimo = df['G3'].min()\n",
        "maximo = df['G3'].max()\n",
        "print('El minimo es: ', minimo )\n",
        "print('El maximo es: ', maximo )\n"
      ]
    },
    {
      "cell_type": "markdown",
      "metadata": {
        "id": "quYL3mcazpad"
      },
      "source": [
        "**Promedio de los tres parciales(G1,G2 y G3)**\n",
        "\n",
        "¿Es bueno el rendimiento de los estudiantes en los tres parciales?"
      ]
    },
    {
      "cell_type": "code",
      "execution_count": null,
      "metadata": {
        "colab": {
          "base_uri": "https://localhost:8080/"
        },
        "id": "HO5SpeYt7E41",
        "outputId": "0314b857-f722-4608-8db3-677da71452f1"
      },
      "outputs": [
        {
          "name": "stdout",
          "output_type": "stream",
          "text": [
            "Promedio del primer parcial:  10.90886075949367\n",
            "Promedio del segundo parcial:  10.713924050632912\n",
            "Promedio del tercer parcial:  10.415189873417722\n"
          ]
        }
      ],
      "source": [
        "Periodo1=df['G1'].mean()\n",
        "Periodo2=df['G2'].mean()\n",
        "Periodo3=df['G3'].mean()\n",
        "print('Promedio del primer parcial: ', Periodo1 )\n",
        "print('Promedio del segundo parcial: ', Periodo2 )\n",
        "print('Promedio del tercer parcial: ', Periodo3 )"
      ]
    },
    {
      "cell_type": "markdown",
      "metadata": {
        "id": "6P2cJIYaE2vj"
      },
      "source": [
        "**Determinar graficamente el tiempo que dedica un estudiante al estudio**\n",
        "¿Cual es el tiempo que dedican los estudiantes al estudio?"
      ]
    },
    {
      "cell_type": "code",
      "execution_count": null,
      "metadata": {
        "colab": {
          "base_uri": "https://localhost:8080/",
          "height": 279
        },
        "id": "Ziz0Brj5FtFC",
        "outputId": "3be78b7d-4a5a-43e2-cf48-5e27b3196603"
      },
      "outputs": [
        {
          "data": {
            "text/plain": [
              "<matplotlib.axes._subplots.AxesSubplot at 0x7f6f07e72d10>"
            ]
          },
          "execution_count": 69,
          "metadata": {},
          "output_type": "execute_result"
        },
        {
          "data": {
            "image/png": "[encoded data removed]",
            "text/plain": [
              "<Figure size 432x288 with 1 Axes>"
            ]
          },
          "metadata": {
            "needs_background": "light"
          },
          "output_type": "display_data"
        }
      ],
      "source": [
        "\n",
        "df['studytime'].value_counts().plot.bar()"
      ]
    },
    {
      "cell_type": "markdown",
      "metadata": {
        "id": "8UJfoANIHOI7"
      },
      "source": [
        "**Determinar la relacion que existe entre tiempo de estudio y notas finales**\n",
        "\n",
        "¿Cunto mas tiempo dedican los estudiantes al estudio mejores notas obtienen?"
      ]
    },
    {
      "cell_type": "code",
      "execution_count": null,
      "metadata": {
        "colab": {
          "base_uri": "https://localhost:8080/",
          "height": 285
        },
        "id": "Cdyu0m4wE477",
        "outputId": "cc2203a0-09ff-403e-a771-c3cd22035670"
      },
      "outputs": [
        {
          "data": {
            "text/plain": [
              "<matplotlib.axes._subplots.AxesSubplot at 0x7fa1249e9a50>"
            ]
          },
          "execution_count": 64,
          "metadata": {},
          "output_type": "execute_result"
        },
        {
          "data": {
            "image/png": "[encoded data removed]",
            "text/plain": [
              "<Figure size 432x288 with 1 Axes>"
            ]
          },
          "metadata": {
            "needs_background": "light"
          },
          "output_type": "display_data"
        }
      ],
      "source": [
        "df[df['studytime']==4]['G3'].value_counts().plot.bar()"
      ]
    },
    {
      "cell_type": "markdown",
      "metadata": {
        "id": "MJaMke6aJkEz"
      },
      "source": [
        "Gráficamente se puede observar que si el tiempo de estudio es mayor o igual a 2, van haber una gran mayoría de estudiantes que llegarán a tener como mejor nota  un 11 mientras que hay una minoria mas o menos de 1 o 2   estudiantes que puedan  tener una nota de 20 en su parcial final"
      ]
    },
    {
      "cell_type": "markdown",
      "metadata": {
        "id": "bekvdITlK-jg"
      },
      "source": [
        "**Relación entre tiempo de estudio(cuando equivale a  4 h) y notas del segundo parcial** "
      ]
    },
    {
      "cell_type": "code",
      "execution_count": null,
      "metadata": {
        "colab": {
          "base_uri": "https://localhost:8080/",
          "height": 285
        },
        "id": "vaSvzjNSFICF",
        "outputId": "52efdc1b-7f7a-4ed2-e5c7-4fed1aff09c0"
      },
      "outputs": [
        {
          "data": {
            "text/plain": [
              "<matplotlib.axes._subplots.AxesSubplot at 0x7f6f06c19450>"
            ]
          },
          "execution_count": 83,
          "metadata": {},
          "output_type": "execute_result"
        },
        {
          "data": {
            "image/png": "[encoded data removed]",
            "text/plain": [
              "<Figure size 432x288 with 1 Axes>"
            ]
          },
          "metadata": {
            "needs_background": "light"
          },
          "output_type": "display_data"
        }
      ],
      "source": [
        "df[df['studytime']==4]['G2'].value_counts().plot.bar()"
      ]
    },
    {
      "cell_type": "markdown",
      "metadata": {
        "id": "NhhtLwmeLexX"
      },
      "source": [
        "**Relación entre tiempo de estudio(cuando equivale a 4 h) y notas del primer parcial**"
      ]
    },
    {
      "cell_type": "code",
      "execution_count": null,
      "metadata": {
        "colab": {
          "base_uri": "https://localhost:8080/",
          "height": 285
        },
        "id": "wjX12l_7LUwu",
        "outputId": "f4d0978b-be1c-427f-f54d-133c4ab0ec68"
      },
      "outputs": [
        {
          "data": {
            "text/plain": [
              "<matplotlib.axes._subplots.AxesSubplot at 0x7f6efda1af50>"
            ]
          },
          "execution_count": 132,
          "metadata": {},
          "output_type": "execute_result"
        },
        {
          "data": {
            "image/png": "[encoded data removed]",
            "text/plain": [
              "<Figure size 432x288 with 1 Axes>"
            ]
          },
          "metadata": {
            "needs_background": "light"
          },
          "output_type": "display_data"
        }
      ],
      "source": [
        "df[df['studytime']==4]['G1'].value_counts().plot.bar()"
      ]
    },
    {
      "cell_type": "markdown",
      "metadata": {
        "id": "E8oNw4Rbykft"
      },
      "source": [
        "**¿Por que razon los estudiantes estan  matriculados en dicho colegio?**\n",
        "\n",
        "Haciendo un análisis del tipo de razon por la cual los estudiantes decidieron asistir al dicho colegio, se encontraron 4 motivos: course(preferencia del curso),home(cerca de casa), reputation(reputacion de la escuela) y other(otro motivo). Con el análisis se pudo determinar que la mayor razon por la que estan incritos se debe a la preferencia del curso representado con un porcentaje del 36,7%"
      ]
    },
    {
      "cell_type": "code",
      "execution_count": null,
      "metadata": {
        "colab": {
          "base_uri": "https://localhost:8080/"
        },
        "id": "AZUDRuCby_A4",
        "outputId": "1caeee5e-ce6e-4c26-833b-ed01a0120bc3"
      },
      "outputs": [
        {
          "data": {
            "text/plain": [
              "count        395\n",
              "unique         4\n",
              "top       course\n",
              "freq         145\n",
              "Name: reason, dtype: object"
            ]
          },
          "execution_count": 86,
          "metadata": {},
          "output_type": "execute_result"
        }
      ],
      "source": [
        "df['reason'].describe()"
      ]
    },
    {
      "cell_type": "code",
      "execution_count": null,
      "metadata": {
        "colab": {
          "base_uri": "https://localhost:8080/",
          "height": 206
        },
        "id": "wqNQicLw3tzx",
        "outputId": "0665fae3-9428-467c-9685-813459114f15"
      },
      "outputs": [
        {
          "data": {
            "text/html": [
              "\n",
              "  <div id=\"df-56aed672-f696-4c5c-a6da-6cf77e9b5011\">\n",
              "    <div class=\"colab-df-container\">\n",
              "      <div>\n",
              "<style scoped>\n",
              "    .dataframe tbody tr th:only-of-type {\n",
              "        vertical-align: middle;\n",
              "    }\n",
              "\n",
              "    .dataframe tbody tr th {\n",
              "        vertical-align: top;\n",
              "    }\n",
              "\n",
              "    .dataframe thead th {\n",
              "        text-align: right;\n",
              "    }\n",
              "</style>\n",
              "<table border=\"1\" class=\"dataframe\">\n",
              "  <thead>\n",
              "    <tr style=\"text-align: right;\">\n",
              "      <th></th>\n",
              "      <th>frequency</th>\n",
              "    </tr>\n",
              "    <tr>\n",
              "      <th>reason</th>\n",
              "      <th></th>\n",
              "    </tr>\n",
              "  </thead>\n",
              "  <tbody>\n",
              "    <tr>\n",
              "      <th>course</th>\n",
              "      <td>145</td>\n",
              "    </tr>\n",
              "    <tr>\n",
              "      <th>home</th>\n",
              "      <td>109</td>\n",
              "    </tr>\n",
              "    <tr>\n",
              "      <th>other</th>\n",
              "      <td>36</td>\n",
              "    </tr>\n",
              "    <tr>\n",
              "      <th>reputation</th>\n",
              "      <td>105</td>\n",
              "    </tr>\n",
              "  </tbody>\n",
              "</table>\n",
              "</div>\n",
              "      <button class=\"colab-df-convert\" onclick=\"convertToInteractive('df-56aed672-f696-4c5c-a6da-6cf77e9b5011')\"\n",
              "              title=\"Convert this dataframe to an interactive table.\"\n",
              "              style=\"display:none;\">\n",
              "        \n",
              "  <svg xmlns=\"http://www.w3.org/2000/svg\" height=\"24px\"viewBox=\"0 0 24 24\"\n",
              "       width=\"24px\">\n",
              "    <path d=\"M0 0h24v24H0V0z\" fill=\"none\"/>\n",
              "    <path d=\"M18.56 5.44l.94 2.06.94-2.06 2.06-.94-2.06-.94-.94-2.06-.94 2.06-2.06.94zm-11 1L8.5 8.5l.94-2.06 2.06-.94-2.06-.94L8.5 2.5l-.94 2.06-2.06.94zm10 10l.94 2.06.94-2.06 2.06-.94-2.06-.94-.94-2.06-.94 2.06-2.06.94z\"/><path d=\"M17.41 7.96l-1.37-1.37c-.4-.4-.92-.59-1.43-.59-.52 0-1.04.2-1.43.59L10.3 9.45l-7.72 7.72c-.78.78-.78 2.05 0 2.83L4 21.41c.39.39.9.59 1.41.59.51 0 1.02-.2 1.41-.59l7.78-7.78 2.81-2.81c.8-.78.8-2.07 0-2.86zM5.41 20L4 18.59l7.72-7.72 1.47 1.35L5.41 20z\"/>\n",
              "  </svg>\n",
              "      </button>\n",
              "      \n",
              "  <style>\n",
              "    .colab-df-container {\n",
              "      display:flex;\n",
              "      flex-wrap:wrap;\n",
              "      gap: 12px;\n",
              "    }\n",
              "\n",
              "    .colab-df-convert {\n",
              "      background-color: #E8F0FE;\n",
              "      border: none;\n",
              "      border-radius: 50%;\n",
              "      cursor: pointer;\n",
              "      display: none;\n",
              "      fill: #1967D2;\n",
              "      height: 32px;\n",
              "      padding: 0 0 0 0;\n",
              "      width: 32px;\n",
              "    }\n",
              "\n",
              "    .colab-df-convert:hover {\n",
              "      background-color: #E2EBFA;\n",
              "      box-shadow: 0px 1px 2px rgba(60, 64, 67, 0.3), 0px 1px 3px 1px rgba(60, 64, 67, 0.15);\n",
              "      fill: #174EA6;\n",
              "    }\n",
              "\n",
              "    [theme=dark] .colab-df-convert {\n",
              "      background-color: #3B4455;\n",
              "      fill: #D2E3FC;\n",
              "    }\n",
              "\n",
              "    [theme=dark] .colab-df-convert:hover {\n",
              "      background-color: #434B5C;\n",
              "      box-shadow: 0px 1px 3px 1px rgba(0, 0, 0, 0.15);\n",
              "      filter: drop-shadow(0px 1px 2px rgba(0, 0, 0, 0.3));\n",
              "      fill: #FFFFFF;\n",
              "    }\n",
              "  </style>\n",
              "\n",
              "      <script>\n",
              "        const buttonEl =\n",
              "          document.querySelector('#df-56aed672-f696-4c5c-a6da-6cf77e9b5011 button.colab-df-convert');\n",
              "        buttonEl.style.display =\n",
              "          google.colab.kernel.accessAllowed ? 'block' : 'none';\n",
              "\n",
              "        async function convertToInteractive(key) {\n",
              "          const element = document.querySelector('#df-56aed672-f696-4c5c-a6da-6cf77e9b5011');\n",
              "          const dataTable =\n",
              "            await google.colab.kernel.invokeFunction('convertToInteractive',\n",
              "                                                     [key], {});\n",
              "          if (!dataTable) return;\n",
              "\n",
              "          const docLinkHtml = 'Like what you see? Visit the ' +\n",
              "            '<a target=\"_blank\" href=https://colab.research.google.com/notebooks/data_table.ipynb>data table notebook</a>'\n",
              "            + ' to learn more about interactive tables.';\n",
              "          element.innerHTML = '';\n",
              "          dataTable['output_type'] = 'display_data';\n",
              "          await google.colab.output.renderOutput(dataTable, element);\n",
              "          const docLink = document.createElement('div');\n",
              "          docLink.innerHTML = docLinkHtml;\n",
              "          element.appendChild(docLink);\n",
              "        }\n",
              "      </script>\n",
              "    </div>\n",
              "  </div>\n",
              "  "
            ],
            "text/plain": [
              "            frequency\n",
              "reason               \n",
              "course            145\n",
              "home              109\n",
              "other              36\n",
              "reputation        105"
            ]
          },
          "execution_count": 71,
          "metadata": {},
          "output_type": "execute_result"
        }
      ],
      "source": [
        "df.groupby(\"reason\").agg(frequency=(\"reason\", \"count\"))"
      ]
    },
    {
      "cell_type": "code",
      "execution_count": null,
      "metadata": {
        "colab": {
          "base_uri": "https://localhost:8080/",
          "height": 248
        },
        "id": "OIFnNaCizud5",
        "outputId": "0cec3f8f-ba0a-4e92-e5d7-0418886d2de2"
      },
      "outputs": [
        {
          "data": {
            "image/png": "[encoded data removed]",
            "text/plain": [
              "<Figure size 432x288 with 1 Axes>"
            ]
          },
          "metadata": {},
          "output_type": "display_data"
        }
      ],
      "source": [
        "plt.pie(df['reason'].value_counts(), shadow=True, autopct=\"%0.1f %%\", labels=['Preferencia de curso','Cerca de Casa', 'Reputación de la escuela', 'Otro'], colors=[\"#99DBAD\", \"#ECBBBA\",  \"#F7D31E\",\"#ffffff\"])\n",
        "plt.show()"
      ]
    },
    {
      "cell_type": "markdown",
      "metadata": {
        "id": "saB6BVDm_dAQ"
      },
      "source": [
        "**número de mujeres y hombre matriculados**"
      ]
    },
    {
      "cell_type": "code",
      "execution_count": null,
      "metadata": {
        "colab": {
          "base_uri": "https://localhost:8080/",
          "height": 143
        },
        "id": "Jd3uFwQW_VMa",
        "outputId": "11ed7a20-26d2-42cd-f214-ef3d7a113f3c"
      },
      "outputs": [
        {
          "data": {
            "text/html": [
              "\n",
              "  <div id=\"df-427a98f3-c667-4d13-ada5-a9fa3e20c9ba\">\n",
              "    <div class=\"colab-df-container\">\n",
              "      <div>\n",
              "<style scoped>\n",
              "    .dataframe tbody tr th:only-of-type {\n",
              "        vertical-align: middle;\n",
              "    }\n",
              "\n",
              "    .dataframe tbody tr th {\n",
              "        vertical-align: top;\n",
              "    }\n",
              "\n",
              "    .dataframe thead th {\n",
              "        text-align: right;\n",
              "    }\n",
              "</style>\n",
              "<table border=\"1\" class=\"dataframe\">\n",
              "  <thead>\n",
              "    <tr style=\"text-align: right;\">\n",
              "      <th></th>\n",
              "      <th>frequency</th>\n",
              "    </tr>\n",
              "    <tr>\n",
              "      <th>sex</th>\n",
              "      <th></th>\n",
              "    </tr>\n",
              "  </thead>\n",
              "  <tbody>\n",
              "    <tr>\n",
              "      <th>F</th>\n",
              "      <td>208</td>\n",
              "    </tr>\n",
              "    <tr>\n",
              "      <th>M</th>\n",
              "      <td>187</td>\n",
              "    </tr>\n",
              "  </tbody>\n",
              "</table>\n",
              "</div>\n",
              "      <button class=\"colab-df-convert\" onclick=\"convertToInteractive('df-427a98f3-c667-4d13-ada5-a9fa3e20c9ba')\"\n",
              "              title=\"Convert this dataframe to an interactive table.\"\n",
              "              style=\"display:none;\">\n",
              "        \n",
              "  <svg xmlns=\"http://www.w3.org/2000/svg\" height=\"24px\"viewBox=\"0 0 24 24\"\n",
              "       width=\"24px\">\n",
              "    <path d=\"M0 0h24v24H0V0z\" fill=\"none\"/>\n",
              "    <path d=\"M18.56 5.44l.94 2.06.94-2.06 2.06-.94-2.06-.94-.94-2.06-.94 2.06-2.06.94zm-11 1L8.5 8.5l.94-2.06 2.06-.94-2.06-.94L8.5 2.5l-.94 2.06-2.06.94zm10 10l.94 2.06.94-2.06 2.06-.94-2.06-.94-.94-2.06-.94 2.06-2.06.94z\"/><path d=\"M17.41 7.96l-1.37-1.37c-.4-.4-.92-.59-1.43-.59-.52 0-1.04.2-1.43.59L10.3 9.45l-7.72 7.72c-.78.78-.78 2.05 0 2.83L4 21.41c.39.39.9.59 1.41.59.51 0 1.02-.2 1.41-.59l7.78-7.78 2.81-2.81c.8-.78.8-2.07 0-2.86zM5.41 20L4 18.59l7.72-7.72 1.47 1.35L5.41 20z\"/>\n",
              "  </svg>\n",
              "      </button>\n",
              "      \n",
              "  <style>\n",
              "    .colab-df-container {\n",
              "      display:flex;\n",
              "      flex-wrap:wrap;\n",
              "      gap: 12px;\n",
              "    }\n",
              "\n",
              "    .colab-df-convert {\n",
              "      background-color: #E8F0FE;\n",
              "      border: none;\n",
              "      border-radius: 50%;\n",
              "      cursor: pointer;\n",
              "      display: none;\n",
              "      fill: #1967D2;\n",
              "      height: 32px;\n",
              "      padding: 0 0 0 0;\n",
              "      width: 32px;\n",
              "    }\n",
              "\n",
              "    .colab-df-convert:hover {\n",
              "      background-color: #E2EBFA;\n",
              "      box-shadow: 0px 1px 2px rgba(60, 64, 67, 0.3), 0px 1px 3px 1px rgba(60, 64, 67, 0.15);\n",
              "      fill: #174EA6;\n",
              "    }\n",
              "\n",
              "    [theme=dark] .colab-df-convert {\n",
              "      background-color: #3B4455;\n",
              "      fill: #D2E3FC;\n",
              "    }\n",
              "\n",
              "    [theme=dark] .colab-df-convert:hover {\n",
              "      background-color: #434B5C;\n",
              "      box-shadow: 0px 1px 3px 1px rgba(0, 0, 0, 0.15);\n",
              "      filter: drop-shadow(0px 1px 2px rgba(0, 0, 0, 0.3));\n",
              "      fill: #FFFFFF;\n",
              "    }\n",
              "  </style>\n",
              "\n",
              "      <script>\n",
              "        const buttonEl =\n",
              "          document.querySelector('#df-427a98f3-c667-4d13-ada5-a9fa3e20c9ba button.colab-df-convert');\n",
              "        buttonEl.style.display =\n",
              "          google.colab.kernel.accessAllowed ? 'block' : 'none';\n",
              "\n",
              "        async function convertToInteractive(key) {\n",
              "          const element = document.querySelector('#df-427a98f3-c667-4d13-ada5-a9fa3e20c9ba');\n",
              "          const dataTable =\n",
              "            await google.colab.kernel.invokeFunction('convertToInteractive',\n",
              "                                                     [key], {});\n",
              "          if (!dataTable) return;\n",
              "\n",
              "          const docLinkHtml = 'Like what you see? Visit the ' +\n",
              "            '<a target=\"_blank\" href=https://colab.research.google.com/notebooks/data_table.ipynb>data table notebook</a>'\n",
              "            + ' to learn more about interactive tables.';\n",
              "          element.innerHTML = '';\n",
              "          dataTable['output_type'] = 'display_data';\n",
              "          await google.colab.output.renderOutput(dataTable, element);\n",
              "          const docLink = document.createElement('div');\n",
              "          docLink.innerHTML = docLinkHtml;\n",
              "          element.appendChild(docLink);\n",
              "        }\n",
              "      </script>\n",
              "    </div>\n",
              "  </div>\n",
              "  "
            ],
            "text/plain": [
              "     frequency\n",
              "sex           \n",
              "F          208\n",
              "M          187"
            ]
          },
          "execution_count": 73,
          "metadata": {},
          "output_type": "execute_result"
        }
      ],
      "source": [
        "df.groupby(\"sex\").agg(frequency=(\"sex\", \"count\"))"
      ]
    },
    {
      "cell_type": "code",
      "execution_count": null,
      "metadata": {
        "colab": {
          "base_uri": "https://localhost:8080/",
          "height": 372
        },
        "id": "2iFDTdP0_sTt",
        "outputId": "f38a0f39-ba26-450f-c9d4-bac3930a3820"
      },
      "outputs": [
        {
          "data": {
            "text/plain": [
              "<matplotlib.legend.Legend at 0x7f6f075a46d0>"
            ]
          },
          "execution_count": 87,
          "metadata": {},
          "output_type": "execute_result"
        },
        {
          "data": {
            "image/png": "[encoded data removed]",
            "text/plain": [
              "<Figure size 360x360 with 1 Axes>"
            ]
          },
          "metadata": {
            "needs_background": "light"
          },
          "output_type": "display_data"
        }
      ],
      "source": [
        "sb.catplot(x='sex', hue ='sex',kind =\"count\", data = df)\n",
        "plt.xlabel('')\n",
        "plt.ylabel('Sexo de alumnos')\n",
        "plt.legend(['F: \"Femenino\"',' M: \"Masculino\"'])"
      ]
    },
    {
      "cell_type": "markdown",
      "metadata": {
        "id": "qiSDhbqF9JkS"
      },
      "source": [
        "**Análisis para la edad**"
      ]
    },
    {
      "cell_type": "code",
      "execution_count": null,
      "metadata": {
        "colab": {
          "base_uri": "https://localhost:8080/"
        },
        "id": "CW_kRPPf9dob",
        "outputId": "3d5e2c4b-be87-4421-de30-41932f8034d3"
      },
      "outputs": [
        {
          "name": "stdout",
          "output_type": "stream",
          "text": [
            "Promedio de la edad: 16.696202531645568\n",
            "Edad Minima: 15\n",
            "Edad Maxima: 22\n"
          ]
        }
      ],
      "source": [
        "PromedioEdad=df['age'].mean()\n",
        "EdadMin= df['age'].min()\n",
        "EdadMax= df['age'].max()\n",
        "print('Promedio de la edad:', PromedioEdad)\n",
        "print('Edad Minima:' ,EdadMin)\n",
        "print('Edad Maxima:', EdadMax)\n",
        "\n"
      ]
    },
    {
      "cell_type": "markdown",
      "metadata": {
        "id": "Wzi7e3UNPUly"
      },
      "source": [
        "**Segun la edad¿Quien se dedica más al estudio?**"
      ]
    },
    {
      "cell_type": "code",
      "execution_count": null,
      "metadata": {
        "colab": {
          "base_uri": "https://localhost:8080/",
          "height": 285
        },
        "id": "7uYh9frAPhU2",
        "outputId": "c7c8f675-4883-417b-f014-bc54e9889184"
      },
      "outputs": [
        {
          "data": {
            "text/plain": [
              "<matplotlib.axes._subplots.AxesSubplot at 0x7f6f08067090>"
            ]
          },
          "execution_count": 98,
          "metadata": {},
          "output_type": "execute_result"
        },
        {
          "data": {
            "image/png": "[encoded data removed]",
            "text/plain": [
              "<Figure size 432x288 with 1 Axes>"
            ]
          },
          "metadata": {
            "needs_background": "light"
          },
          "output_type": "display_data"
        }
      ],
      "source": [
        "df[df['age']>=19]['G3'].value_counts().plot.bar()\n"
      ]
    },
    {
      "cell_type": "code",
      "execution_count": null,
      "metadata": {
        "colab": {
          "base_uri": "https://localhost:8080/",
          "height": 285
        },
        "id": "PHYwh6vsPuxa",
        "outputId": "8614aeba-b468-40a8-c4d6-624887231a92"
      },
      "outputs": [
        {
          "data": {
            "text/plain": [
              "<matplotlib.axes._subplots.AxesSubplot at 0x7f6efe0f22d0>"
            ]
          },
          "execution_count": 99,
          "metadata": {},
          "output_type": "execute_result"
        },
        {
          "data": {
            "image/png": "[encoded data removed]",
            "text/plain": [
              "<Figure size 432x288 with 1 Axes>"
            ]
          },
          "metadata": {
            "needs_background": "light"
          },
          "output_type": "display_data"
        }
      ],
      "source": [
        "df[df['age']<=18]['G3'].value_counts().plot.bar()"
      ]
    },
    {
      "cell_type": "markdown",
      "metadata": {
        "id": "j_TZqDsGrYgl"
      },
      "source": [
        "**¿Cúales con las notas de los estudiantes que toman clases extras en comparación a los que no?**"
      ]
    },
    {
      "cell_type": "code",
      "execution_count": null,
      "metadata": {
        "colab": {
          "base_uri": "https://localhost:8080/",
          "height": 488
        },
        "id": "N9L9TDiKrZve",
        "outputId": "2928ccf6-1b4f-4e5f-f893-dce2888f0a14"
      },
      "outputs": [
        {
          "data": {
            "text/plain": [
              "<function matplotlib.pyplot.show>"
            ]
          },
          "execution_count": 147,
          "metadata": {},
          "output_type": "execute_result"
        },
        {
          "data": {
            "image/png": "[encoded data removed]",
            "text/plain": [
              "<Figure size 1296x576 with 2 Axes>"
            ]
          },
          "metadata": {
            "needs_background": "light"
          },
          "output_type": "display_data"
        }
      ],
      "source": [
        "f, ax = plt.subplots(1,2,figsize = (18,8))\n",
        "(df[df['paid']=='yes']['G3']).value_counts().plot.bar(ax = ax[0])\n",
        "ax[0].set_title('Estudiantes que toman clases pagadas extras')\n",
        "ax[0].set_xlabel('Calificaciones finales')\n",
        "\n",
        "(df[df['paid']=='no']['G3']).value_counts().plot.bar(ax = ax[1], color = ['#CD7F32'])\n",
        "ax[1].set_title('Estudiantes que no toman clases pagadas extras')\n",
        "ax[1].set_xlabel('Calificaciones finales')\n",
        "\n",
        "plt.show #presentar gráficas"
      ]
    },
    {
      "cell_type": "markdown",
      "metadata": {
        "id": "0TbLH_3Zsmsn"
      },
      "source": [
        "**¿Cúantos estudiantes desean cursar estudios superiores?**"
      ]
    },
    {
      "cell_type": "code",
      "execution_count": null,
      "metadata": {
        "colab": {
          "base_uri": "https://localhost:8080/",
          "height": 248
        },
        "id": "26jnuwdYsxpH",
        "outputId": "b9f750c8-1824-400d-c604-89b59d7d3527"
      },
      "outputs": [
        {
          "data": {
            "image/png": "[encoded data removed]",
            "text/plain": [
              "<Figure size 432x288 with 1 Axes>"
            ]
          },
          "metadata": {},
          "output_type": "display_data"
        }
      ],
      "source": [
        "\n",
        "plt.pie(df['higher'].value_counts(), shadow=True, autopct=\"%0.1f %%\", labels=['desean cursar ','no desean'], colors=[\"yellow\",  \"orange\"])\n",
        "plt.show()"
      ]
    },
    {
      "cell_type": "code",
      "execution_count": null,
      "metadata": {
        "colab": {
          "base_uri": "https://localhost:8080/"
        },
        "id": "2aAvskrsj0jX",
        "outputId": "94514c6e-0371-4054-94db-76c1534af840"
      },
      "outputs": [
        {
          "name": "stdout",
          "output_type": "stream",
          "text": [
            "(395, 33)\n",
            "              age        Medu        Fedu  ...          G1          G2          G3\n",
            "count  395.000000  395.000000  395.000000  ...  395.000000  395.000000  395.000000\n",
            "mean    16.696203    2.749367    2.521519  ...   10.908861   10.713924   10.415190\n",
            "std      1.276043    1.094735    1.088201  ...    3.319195    3.761505    4.581443\n",
            "min     15.000000    0.000000    0.000000  ...    3.000000    0.000000    0.000000\n",
            "25%     16.000000    2.000000    2.000000  ...    8.000000    9.000000    8.000000\n",
            "50%     17.000000    3.000000    2.000000  ...   11.000000   11.000000   11.000000\n",
            "75%     18.000000    4.000000    3.000000  ...   13.000000   13.000000   14.000000\n",
            "max     22.000000    4.000000    4.000000  ...   19.000000   19.000000   20.000000\n",
            "\n",
            "[8 rows x 16 columns]\n"
          ]
        }
      ],
      "source": [
        "print(df.shape)\n",
        "print(df.describe())"
      ]
    },
    {
      "cell_type": "markdown",
      "metadata": {
        "id": "VRXSLFCfuVpX"
      },
      "source": [
        "correlacion"
      ]
    },
    {
      "cell_type": "code",
      "execution_count": null,
      "metadata": {
        "colab": {
          "base_uri": "https://localhost:8080/",
          "height": 909
        },
        "id": "3dKMUo2euX4r",
        "outputId": "bc8228f8-1314-457e-b033-60bb1835ce34"
      },
      "outputs": [
        {
          "data": {
            "text/html": [
              "\n",
              "  <div id=\"df-b0c7ab65-63ce-4e56-957b-7f38ba6b3a33\">\n",
              "    <div class=\"colab-df-container\">\n",
              "      <div>\n",
              "<style scoped>\n",
              "    .dataframe tbody tr th:only-of-type {\n",
              "        vertical-align: middle;\n",
              "    }\n",
              "\n",
              "    .dataframe tbody tr th {\n",
              "        vertical-align: top;\n",
              "    }\n",
              "\n",
              "    .dataframe thead th {\n",
              "        text-align: right;\n",
              "    }\n",
              "</style>\n",
              "<table border=\"1\" class=\"dataframe\">\n",
              "  <thead>\n",
              "    <tr style=\"text-align: right;\">\n",
              "      <th></th>\n",
              "      <th>age</th>\n",
              "      <th>Medu</th>\n",
              "      <th>Fedu</th>\n",
              "      <th>traveltime</th>\n",
              "      <th>studytime</th>\n",
              "      <th>failures</th>\n",
              "      <th>famrel</th>\n",
              "      <th>freetime</th>\n",
              "      <th>goout</th>\n",
              "      <th>Dalc</th>\n",
              "      <th>Walc</th>\n",
              "      <th>health</th>\n",
              "      <th>absences</th>\n",
              "      <th>G1</th>\n",
              "      <th>G2</th>\n",
              "      <th>G3</th>\n",
              "    </tr>\n",
              "  </thead>\n",
              "  <tbody>\n",
              "    <tr>\n",
              "      <th>age</th>\n",
              "      <td>1.000000</td>\n",
              "      <td>-0.163658</td>\n",
              "      <td>-0.163438</td>\n",
              "      <td>0.070641</td>\n",
              "      <td>-0.004140</td>\n",
              "      <td>0.243665</td>\n",
              "      <td>0.053940</td>\n",
              "      <td>0.016434</td>\n",
              "      <td>0.126964</td>\n",
              "      <td>0.131125</td>\n",
              "      <td>0.117276</td>\n",
              "      <td>-0.062187</td>\n",
              "      <td>0.175230</td>\n",
              "      <td>-0.064081</td>\n",
              "      <td>-0.143474</td>\n",
              "      <td>-0.161579</td>\n",
              "    </tr>\n",
              "    <tr>\n",
              "      <th>Medu</th>\n",
              "      <td>-0.163658</td>\n",
              "      <td>1.000000</td>\n",
              "      <td>0.623455</td>\n",
              "      <td>-0.171639</td>\n",
              "      <td>0.064944</td>\n",
              "      <td>-0.236680</td>\n",
              "      <td>-0.003914</td>\n",
              "      <td>0.030891</td>\n",
              "      <td>0.064094</td>\n",
              "      <td>0.019834</td>\n",
              "      <td>-0.047123</td>\n",
              "      <td>-0.046878</td>\n",
              "      <td>0.100285</td>\n",
              "      <td>0.205341</td>\n",
              "      <td>0.215527</td>\n",
              "      <td>0.217147</td>\n",
              "    </tr>\n",
              "    <tr>\n",
              "      <th>Fedu</th>\n",
              "      <td>-0.163438</td>\n",
              "      <td>0.623455</td>\n",
              "      <td>1.000000</td>\n",
              "      <td>-0.158194</td>\n",
              "      <td>-0.009175</td>\n",
              "      <td>-0.250408</td>\n",
              "      <td>-0.001370</td>\n",
              "      <td>-0.012846</td>\n",
              "      <td>0.043105</td>\n",
              "      <td>0.002386</td>\n",
              "      <td>-0.012631</td>\n",
              "      <td>0.014742</td>\n",
              "      <td>0.024473</td>\n",
              "      <td>0.190270</td>\n",
              "      <td>0.164893</td>\n",
              "      <td>0.152457</td>\n",
              "    </tr>\n",
              "    <tr>\n",
              "      <th>traveltime</th>\n",
              "      <td>0.070641</td>\n",
              "      <td>-0.171639</td>\n",
              "      <td>-0.158194</td>\n",
              "      <td>1.000000</td>\n",
              "      <td>-0.100909</td>\n",
              "      <td>0.092239</td>\n",
              "      <td>-0.016808</td>\n",
              "      <td>-0.017025</td>\n",
              "      <td>0.028540</td>\n",
              "      <td>0.138325</td>\n",
              "      <td>0.134116</td>\n",
              "      <td>0.007501</td>\n",
              "      <td>-0.012944</td>\n",
              "      <td>-0.093040</td>\n",
              "      <td>-0.153198</td>\n",
              "      <td>-0.117142</td>\n",
              "    </tr>\n",
              "    <tr>\n",
              "      <th>studytime</th>\n",
              "      <td>-0.004140</td>\n",
              "      <td>0.064944</td>\n",
              "      <td>-0.009175</td>\n",
              "      <td>-0.100909</td>\n",
              "      <td>1.000000</td>\n",
              "      <td>-0.173563</td>\n",
              "      <td>0.039731</td>\n",
              "      <td>-0.143198</td>\n",
              "      <td>-0.063904</td>\n",
              "      <td>-0.196019</td>\n",
              "      <td>-0.253785</td>\n",
              "      <td>-0.075616</td>\n",
              "      <td>-0.062700</td>\n",
              "      <td>0.160612</td>\n",
              "      <td>0.135880</td>\n",
              "      <td>0.097820</td>\n",
              "    </tr>\n",
              "    <tr>\n",
              "      <th>failures</th>\n",
              "      <td>0.243665</td>\n",
              "      <td>-0.236680</td>\n",
              "      <td>-0.250408</td>\n",
              "      <td>0.092239</td>\n",
              "      <td>-0.173563</td>\n",
              "      <td>1.000000</td>\n",
              "      <td>-0.044337</td>\n",
              "      <td>0.091987</td>\n",
              "      <td>0.124561</td>\n",
              "      <td>0.136047</td>\n",
              "      <td>0.141962</td>\n",
              "      <td>0.065827</td>\n",
              "      <td>0.063726</td>\n",
              "      <td>-0.354718</td>\n",
              "      <td>-0.355896</td>\n",
              "      <td>-0.360415</td>\n",
              "    </tr>\n",
              "    <tr>\n",
              "      <th>famrel</th>\n",
              "      <td>0.053940</td>\n",
              "      <td>-0.003914</td>\n",
              "      <td>-0.001370</td>\n",
              "      <td>-0.016808</td>\n",
              "      <td>0.039731</td>\n",
              "      <td>-0.044337</td>\n",
              "      <td>1.000000</td>\n",
              "      <td>0.150701</td>\n",
              "      <td>0.064568</td>\n",
              "      <td>-0.077594</td>\n",
              "      <td>-0.113397</td>\n",
              "      <td>0.094056</td>\n",
              "      <td>-0.044354</td>\n",
              "      <td>0.022168</td>\n",
              "      <td>-0.018281</td>\n",
              "      <td>0.051363</td>\n",
              "    </tr>\n",
              "    <tr>\n",
              "      <th>freetime</th>\n",
              "      <td>0.016434</td>\n",
              "      <td>0.030891</td>\n",
              "      <td>-0.012846</td>\n",
              "      <td>-0.017025</td>\n",
              "      <td>-0.143198</td>\n",
              "      <td>0.091987</td>\n",
              "      <td>0.150701</td>\n",
              "      <td>1.000000</td>\n",
              "      <td>0.285019</td>\n",
              "      <td>0.209001</td>\n",
              "      <td>0.147822</td>\n",
              "      <td>0.075733</td>\n",
              "      <td>-0.058078</td>\n",
              "      <td>0.012613</td>\n",
              "      <td>-0.013777</td>\n",
              "      <td>0.011307</td>\n",
              "    </tr>\n",
              "    <tr>\n",
              "      <th>goout</th>\n",
              "      <td>0.126964</td>\n",
              "      <td>0.064094</td>\n",
              "      <td>0.043105</td>\n",
              "      <td>0.028540</td>\n",
              "      <td>-0.063904</td>\n",
              "      <td>0.124561</td>\n",
              "      <td>0.064568</td>\n",
              "      <td>0.285019</td>\n",
              "      <td>1.000000</td>\n",
              "      <td>0.266994</td>\n",
              "      <td>0.420386</td>\n",
              "      <td>-0.009577</td>\n",
              "      <td>0.044302</td>\n",
              "      <td>-0.149104</td>\n",
              "      <td>-0.162250</td>\n",
              "      <td>-0.132791</td>\n",
              "    </tr>\n",
              "    <tr>\n",
              "      <th>Dalc</th>\n",
              "      <td>0.131125</td>\n",
              "      <td>0.019834</td>\n",
              "      <td>0.002386</td>\n",
              "      <td>0.138325</td>\n",
              "      <td>-0.196019</td>\n",
              "      <td>0.136047</td>\n",
              "      <td>-0.077594</td>\n",
              "      <td>0.209001</td>\n",
              "      <td>0.266994</td>\n",
              "      <td>1.000000</td>\n",
              "      <td>0.647544</td>\n",
              "      <td>0.077180</td>\n",
              "      <td>0.111908</td>\n",
              "      <td>-0.094159</td>\n",
              "      <td>-0.064120</td>\n",
              "      <td>-0.054660</td>\n",
              "    </tr>\n",
              "    <tr>\n",
              "      <th>Walc</th>\n",
              "      <td>0.117276</td>\n",
              "      <td>-0.047123</td>\n",
              "      <td>-0.012631</td>\n",
              "      <td>0.134116</td>\n",
              "      <td>-0.253785</td>\n",
              "      <td>0.141962</td>\n",
              "      <td>-0.113397</td>\n",
              "      <td>0.147822</td>\n",
              "      <td>0.420386</td>\n",
              "      <td>0.647544</td>\n",
              "      <td>1.000000</td>\n",
              "      <td>0.092476</td>\n",
              "      <td>0.136291</td>\n",
              "      <td>-0.126179</td>\n",
              "      <td>-0.084927</td>\n",
              "      <td>-0.051939</td>\n",
              "    </tr>\n",
              "    <tr>\n",
              "      <th>health</th>\n",
              "      <td>-0.062187</td>\n",
              "      <td>-0.046878</td>\n",
              "      <td>0.014742</td>\n",
              "      <td>0.007501</td>\n",
              "      <td>-0.075616</td>\n",
              "      <td>0.065827</td>\n",
              "      <td>0.094056</td>\n",
              "      <td>0.075733</td>\n",
              "      <td>-0.009577</td>\n",
              "      <td>0.077180</td>\n",
              "      <td>0.092476</td>\n",
              "      <td>1.000000</td>\n",
              "      <td>-0.029937</td>\n",
              "      <td>-0.073172</td>\n",
              "      <td>-0.097720</td>\n",
              "      <td>-0.061335</td>\n",
              "    </tr>\n",
              "    <tr>\n",
              "      <th>absences</th>\n",
              "      <td>0.175230</td>\n",
              "      <td>0.100285</td>\n",
              "      <td>0.024473</td>\n",
              "      <td>-0.012944</td>\n",
              "      <td>-0.062700</td>\n",
              "      <td>0.063726</td>\n",
              "      <td>-0.044354</td>\n",
              "      <td>-0.058078</td>\n",
              "      <td>0.044302</td>\n",
              "      <td>0.111908</td>\n",
              "      <td>0.136291</td>\n",
              "      <td>-0.029937</td>\n",
              "      <td>1.000000</td>\n",
              "      <td>-0.031003</td>\n",
              "      <td>-0.031777</td>\n",
              "      <td>0.034247</td>\n",
              "    </tr>\n",
              "    <tr>\n",
              "      <th>G1</th>\n",
              "      <td>-0.064081</td>\n",
              "      <td>0.205341</td>\n",
              "      <td>0.190270</td>\n",
              "      <td>-0.093040</td>\n",
              "      <td>0.160612</td>\n",
              "      <td>-0.354718</td>\n",
              "      <td>0.022168</td>\n",
              "      <td>0.012613</td>\n",
              "      <td>-0.149104</td>\n",
              "      <td>-0.094159</td>\n",
              "      <td>-0.126179</td>\n",
              "      <td>-0.073172</td>\n",
              "      <td>-0.031003</td>\n",
              "      <td>1.000000</td>\n",
              "      <td>0.852118</td>\n",
              "      <td>0.801468</td>\n",
              "    </tr>\n",
              "    <tr>\n",
              "      <th>G2</th>\n",
              "      <td>-0.143474</td>\n",
              "      <td>0.215527</td>\n",
              "      <td>0.164893</td>\n",
              "      <td>-0.153198</td>\n",
              "      <td>0.135880</td>\n",
              "      <td>-0.355896</td>\n",
              "      <td>-0.018281</td>\n",
              "      <td>-0.013777</td>\n",
              "      <td>-0.162250</td>\n",
              "      <td>-0.064120</td>\n",
              "      <td>-0.084927</td>\n",
              "      <td>-0.097720</td>\n",
              "      <td>-0.031777</td>\n",
              "      <td>0.852118</td>\n",
              "      <td>1.000000</td>\n",
              "      <td>0.904868</td>\n",
              "    </tr>\n",
              "    <tr>\n",
              "      <th>G3</th>\n",
              "      <td>-0.161579</td>\n",
              "      <td>0.217147</td>\n",
              "      <td>0.152457</td>\n",
              "      <td>-0.117142</td>\n",
              "      <td>0.097820</td>\n",
              "      <td>-0.360415</td>\n",
              "      <td>0.051363</td>\n",
              "      <td>0.011307</td>\n",
              "      <td>-0.132791</td>\n",
              "      <td>-0.054660</td>\n",
              "      <td>-0.051939</td>\n",
              "      <td>-0.061335</td>\n",
              "      <td>0.034247</td>\n",
              "      <td>0.801468</td>\n",
              "      <td>0.904868</td>\n",
              "      <td>1.000000</td>\n",
              "    </tr>\n",
              "  </tbody>\n",
              "</table>\n",
              "</div>\n",
              "      <button class=\"colab-df-convert\" onclick=\"convertToInteractive('df-b0c7ab65-63ce-4e56-957b-7f38ba6b3a33')\"\n",
              "              title=\"Convert this dataframe to an interactive table.\"\n",
              "              style=\"display:none;\">\n",
              "        \n",
              "  <svg xmlns=\"http://www.w3.org/2000/svg\" height=\"24px\"viewBox=\"0 0 24 24\"\n",
              "       width=\"24px\">\n",
              "    <path d=\"M0 0h24v24H0V0z\" fill=\"none\"/>\n",
              "    <path d=\"M18.56 5.44l.94 2.06.94-2.06 2.06-.94-2.06-.94-.94-2.06-.94 2.06-2.06.94zm-11 1L8.5 8.5l.94-2.06 2.06-.94-2.06-.94L8.5 2.5l-.94 2.06-2.06.94zm10 10l.94 2.06.94-2.06 2.06-.94-2.06-.94-.94-2.06-.94 2.06-2.06.94z\"/><path d=\"M17.41 7.96l-1.37-1.37c-.4-.4-.92-.59-1.43-.59-.52 0-1.04.2-1.43.59L10.3 9.45l-7.72 7.72c-.78.78-.78 2.05 0 2.83L4 21.41c.39.39.9.59 1.41.59.51 0 1.02-.2 1.41-.59l7.78-7.78 2.81-2.81c.8-.78.8-2.07 0-2.86zM5.41 20L4 18.59l7.72-7.72 1.47 1.35L5.41 20z\"/>\n",
              "  </svg>\n",
              "      </button>\n",
              "      \n",
              "  <style>\n",
              "    .colab-df-container {\n",
              "      display:flex;\n",
              "      flex-wrap:wrap;\n",
              "      gap: 12px;\n",
              "    }\n",
              "\n",
              "    .colab-df-convert {\n",
              "      background-color: #E8F0FE;\n",
              "      border: none;\n",
              "      border-radius: 50%;\n",
              "      cursor: pointer;\n",
              "      display: none;\n",
              "      fill: #1967D2;\n",
              "      height: 32px;\n",
              "      padding: 0 0 0 0;\n",
              "      width: 32px;\n",
              "    }\n",
              "\n",
              "    .colab-df-convert:hover {\n",
              "      background-color: #E2EBFA;\n",
              "      box-shadow: 0px 1px 2px rgba(60, 64, 67, 0.3), 0px 1px 3px 1px rgba(60, 64, 67, 0.15);\n",
              "      fill: #174EA6;\n",
              "    }\n",
              "\n",
              "    [theme=dark] .colab-df-convert {\n",
              "      background-color: #3B4455;\n",
              "      fill: #D2E3FC;\n",
              "    }\n",
              "\n",
              "    [theme=dark] .colab-df-convert:hover {\n",
              "      background-color: #434B5C;\n",
              "      box-shadow: 0px 1px 3px 1px rgba(0, 0, 0, 0.15);\n",
              "      filter: drop-shadow(0px 1px 2px rgba(0, 0, 0, 0.3));\n",
              "      fill: #FFFFFF;\n",
              "    }\n",
              "  </style>\n",
              "\n",
              "      <script>\n",
              "        const buttonEl =\n",
              "          document.querySelector('#df-b0c7ab65-63ce-4e56-957b-7f38ba6b3a33 button.colab-df-convert');\n",
              "        buttonEl.style.display =\n",
              "          google.colab.kernel.accessAllowed ? 'block' : 'none';\n",
              "\n",
              "        async function convertToInteractive(key) {\n",
              "          const element = document.querySelector('#df-b0c7ab65-63ce-4e56-957b-7f38ba6b3a33');\n",
              "          const dataTable =\n",
              "            await google.colab.kernel.invokeFunction('convertToInteractive',\n",
              "                                                     [key], {});\n",
              "          if (!dataTable) return;\n",
              "\n",
              "          const docLinkHtml = 'Like what you see? Visit the ' +\n",
              "            '<a target=\"_blank\" href=https://colab.research.google.com/notebooks/data_table.ipynb>data table notebook</a>'\n",
              "            + ' to learn more about interactive tables.';\n",
              "          element.innerHTML = '';\n",
              "          dataTable['output_type'] = 'display_data';\n",
              "          await google.colab.output.renderOutput(dataTable, element);\n",
              "          const docLink = document.createElement('div');\n",
              "          docLink.innerHTML = docLinkHtml;\n",
              "          element.appendChild(docLink);\n",
              "        }\n",
              "      </script>\n",
              "    </div>\n",
              "  </div>\n",
              "  "
            ],
            "text/plain": [
              "                 age      Medu      Fedu  ...        G1        G2        G3\n",
              "age         1.000000 -0.163658 -0.163438  ... -0.064081 -0.143474 -0.161579\n",
              "Medu       -0.163658  1.000000  0.623455  ...  0.205341  0.215527  0.217147\n",
              "Fedu       -0.163438  0.623455  1.000000  ...  0.190270  0.164893  0.152457\n",
              "traveltime  0.070641 -0.171639 -0.158194  ... -0.093040 -0.153198 -0.117142\n",
              "studytime  -0.004140  0.064944 -0.009175  ...  0.160612  0.135880  0.097820\n",
              "failures    0.243665 -0.236680 -0.250408  ... -0.354718 -0.355896 -0.360415\n",
              "famrel      0.053940 -0.003914 -0.001370  ...  0.022168 -0.018281  0.051363\n",
              "freetime    0.016434  0.030891 -0.012846  ...  0.012613 -0.013777  0.011307\n",
              "goout       0.126964  0.064094  0.043105  ... -0.149104 -0.162250 -0.132791\n",
              "Dalc        0.131125  0.019834  0.002386  ... -0.094159 -0.064120 -0.054660\n",
              "Walc        0.117276 -0.047123 -0.012631  ... -0.126179 -0.084927 -0.051939\n",
              "health     -0.062187 -0.046878  0.014742  ... -0.073172 -0.097720 -0.061335\n",
              "absences    0.175230  0.100285  0.024473  ... -0.031003 -0.031777  0.034247\n",
              "G1         -0.064081  0.205341  0.190270  ...  1.000000  0.852118  0.801468\n",
              "G2         -0.143474  0.215527  0.164893  ...  0.852118  1.000000  0.904868\n",
              "G3         -0.161579  0.217147  0.152457  ...  0.801468  0.904868  1.000000\n",
              "\n",
              "[16 rows x 16 columns]"
            ]
          },
          "execution_count": 163,
          "metadata": {},
          "output_type": "execute_result"
        },
        {
          "data": {
            "image/png": "[encoded data removed]",
            "text/plain": [
              "<Figure size 432x288 with 2 Axes>"
            ]
          },
          "metadata": {
            "needs_background": "light"
          },
          "output_type": "display_data"
        }
      ],
      "source": [
        "corr= data.corr()\n",
        "sb.heatmap(corr)\n",
        "corr\n"
      ]
    },
    {
      "cell_type": "markdown",
      "metadata": {
        "id": "efriRbQoz_jv"
      },
      "source": [
        "**¿existe un acorrelacion entre G2 y G3?**"
      ]
    },
    {
      "cell_type": "code",
      "execution_count": null,
      "metadata": {
        "colab": {
          "base_uri": "https://localhost:8080/",
          "height": 279
        },
        "id": "aX7B_pKl0BGb",
        "outputId": "64917ac9-9be4-47fc-b9b0-9430978f75d4"
      },
      "outputs": [
        {
          "data": {
            "image/png": "[encoded data removed]",
            "text/plain": [
              "<Figure size 432x288 with 1 Axes>"
            ]
          },
          "metadata": {
            "needs_background": "light"
          },
          "output_type": "display_data"
        }
      ],
      "source": [
        "plt.scatter(df['G2'],df['G3'])\n",
        "plt.xlabel('notas finales del parcial 2')\n",
        "plt.ylabel('notas finales del parcial 3')\n",
        "plt.show()"
      ]
    },
    {
      "cell_type": "code",
      "execution_count": null,
      "metadata": {
        "id": "lOvJ6GpCygDc"
      },
      "outputs": [],
      "source": []
    },
    {
      "cell_type": "markdown",
      "metadata": {
        "id": "5sXwiH381zL9"
      },
      "source": [
        "##**Conclusiones de la explorcion de datos**\n",
        "\n",
        "\n",
        "* En el anális exploratorio se evidencia que no existe una correlación directa de las variables a excepcion de las variables de notas finales de cada parcial.\n",
        "* Se observa que hay un bajo rendimieto en  las notas finales de cada parcial..\n",
        "* Los estudiantes que toman clases extras pagadas tienen calificaciones finales mayores con relacion a los estudiantes que no las toman. \n",
        "* Las gráficas de las variables que se estan analizando permiten una representación mejorada de los datos, con estos es más facil el entendimiento."
      ]
    },
    {
      "cell_type": "markdown",
      "metadata": {
        "id": "OXQPj4M4S-1M"
      },
      "source": [
        "#**MACHINE LEARNING**"
      ]
    },
    {
      "cell_type": "markdown",
      "metadata": {
        "id": "Zo-oTUyDx_Oo"
      },
      "source": [
        "##**Problema  A Resolver**\n",
        "\n",
        "¿Cuáles son los factores que influyen para que el estudiente apruebe o repruebe el tercer Parcial?\n",
        "\n",
        "El problema que se quiere resolver es acerca de  que caracteríticas influyen en la calificacion final de los estudiantes. Por ello se va hacer una relacion entre la calificación Final(G3) y otras variables para saber cual de ellas influye mas. Teniendo encuenta esto se van a elmminar las columnas que no se creen necesarias utilizar en el  proyecto"
      ]
    },
    {
      "cell_type": "code",
      "execution_count": 5,
      "metadata": {
        "colab": {
          "base_uri": "https://localhost:8080/",
          "height": 423
        },
        "id": "fbolo3gWzYxt",
        "outputId": "9537bcad-249e-4aad-dc74-f736982d5bca"
      },
      "outputs": [
        {
          "data": {
            "text/html": [
              "\n",
              "  <div id=\"df-25fce89b-eb16-449c-a2d1-297ef1f6aa19\">\n",
              "    <div class=\"colab-df-container\">\n",
              "      <div>\n",
              "<style scoped>\n",
              "    .dataframe tbody tr th:only-of-type {\n",
              "        vertical-align: middle;\n",
              "    }\n",
              "\n",
              "    .dataframe tbody tr th {\n",
              "        vertical-align: top;\n",
              "    }\n",
              "\n",
              "    .dataframe thead th {\n",
              "        text-align: right;\n",
              "    }\n",
              "</style>\n",
              "<table border=\"1\" class=\"dataframe\">\n",
              "  <thead>\n",
              "    <tr style=\"text-align: right;\">\n",
              "      <th></th>\n",
              "      <th>studytime</th>\n",
              "      <th>romantic</th>\n",
              "      <th>health</th>\n",
              "      <th>absences</th>\n",
              "      <th>G1</th>\n",
              "      <th>G2</th>\n",
              "      <th>G3</th>\n",
              "    </tr>\n",
              "  </thead>\n",
              "  <tbody>\n",
              "    <tr>\n",
              "      <th>0</th>\n",
              "      <td>2</td>\n",
              "      <td>no</td>\n",
              "      <td>3</td>\n",
              "      <td>6</td>\n",
              "      <td>5</td>\n",
              "      <td>6</td>\n",
              "      <td>6</td>\n",
              "    </tr>\n",
              "    <tr>\n",
              "      <th>1</th>\n",
              "      <td>2</td>\n",
              "      <td>no</td>\n",
              "      <td>3</td>\n",
              "      <td>4</td>\n",
              "      <td>5</td>\n",
              "      <td>5</td>\n",
              "      <td>6</td>\n",
              "    </tr>\n",
              "    <tr>\n",
              "      <th>2</th>\n",
              "      <td>2</td>\n",
              "      <td>no</td>\n",
              "      <td>3</td>\n",
              "      <td>10</td>\n",
              "      <td>7</td>\n",
              "      <td>8</td>\n",
              "      <td>10</td>\n",
              "    </tr>\n",
              "    <tr>\n",
              "      <th>3</th>\n",
              "      <td>3</td>\n",
              "      <td>yes</td>\n",
              "      <td>5</td>\n",
              "      <td>2</td>\n",
              "      <td>15</td>\n",
              "      <td>14</td>\n",
              "      <td>15</td>\n",
              "    </tr>\n",
              "    <tr>\n",
              "      <th>4</th>\n",
              "      <td>2</td>\n",
              "      <td>no</td>\n",
              "      <td>5</td>\n",
              "      <td>4</td>\n",
              "      <td>6</td>\n",
              "      <td>10</td>\n",
              "      <td>10</td>\n",
              "    </tr>\n",
              "    <tr>\n",
              "      <th>...</th>\n",
              "      <td>...</td>\n",
              "      <td>...</td>\n",
              "      <td>...</td>\n",
              "      <td>...</td>\n",
              "      <td>...</td>\n",
              "      <td>...</td>\n",
              "      <td>...</td>\n",
              "    </tr>\n",
              "    <tr>\n",
              "      <th>390</th>\n",
              "      <td>2</td>\n",
              "      <td>no</td>\n",
              "      <td>4</td>\n",
              "      <td>11</td>\n",
              "      <td>9</td>\n",
              "      <td>9</td>\n",
              "      <td>9</td>\n",
              "    </tr>\n",
              "    <tr>\n",
              "      <th>391</th>\n",
              "      <td>1</td>\n",
              "      <td>no</td>\n",
              "      <td>2</td>\n",
              "      <td>3</td>\n",
              "      <td>14</td>\n",
              "      <td>16</td>\n",
              "      <td>16</td>\n",
              "    </tr>\n",
              "    <tr>\n",
              "      <th>392</th>\n",
              "      <td>1</td>\n",
              "      <td>no</td>\n",
              "      <td>3</td>\n",
              "      <td>3</td>\n",
              "      <td>10</td>\n",
              "      <td>8</td>\n",
              "      <td>7</td>\n",
              "    </tr>\n",
              "    <tr>\n",
              "      <th>393</th>\n",
              "      <td>1</td>\n",
              "      <td>no</td>\n",
              "      <td>5</td>\n",
              "      <td>0</td>\n",
              "      <td>11</td>\n",
              "      <td>12</td>\n",
              "      <td>10</td>\n",
              "    </tr>\n",
              "    <tr>\n",
              "      <th>394</th>\n",
              "      <td>1</td>\n",
              "      <td>no</td>\n",
              "      <td>5</td>\n",
              "      <td>5</td>\n",
              "      <td>8</td>\n",
              "      <td>9</td>\n",
              "      <td>9</td>\n",
              "    </tr>\n",
              "  </tbody>\n",
              "</table>\n",
              "<p>395 rows × 7 columns</p>\n",
              "</div>\n",
              "      <button class=\"colab-df-convert\" onclick=\"convertToInteractive('df-25fce89b-eb16-449c-a2d1-297ef1f6aa19')\"\n",
              "              title=\"Convert this dataframe to an interactive table.\"\n",
              "              style=\"display:none;\">\n",
              "        \n",
              "  <svg xmlns=\"http://www.w3.org/2000/svg\" height=\"24px\"viewBox=\"0 0 24 24\"\n",
              "       width=\"24px\">\n",
              "    <path d=\"M0 0h24v24H0V0z\" fill=\"none\"/>\n",
              "    <path d=\"M18.56 5.44l.94 2.06.94-2.06 2.06-.94-2.06-.94-.94-2.06-.94 2.06-2.06.94zm-11 1L8.5 8.5l.94-2.06 2.06-.94-2.06-.94L8.5 2.5l-.94 2.06-2.06.94zm10 10l.94 2.06.94-2.06 2.06-.94-2.06-.94-.94-2.06-.94 2.06-2.06.94z\"/><path d=\"M17.41 7.96l-1.37-1.37c-.4-.4-.92-.59-1.43-.59-.52 0-1.04.2-1.43.59L10.3 9.45l-7.72 7.72c-.78.78-.78 2.05 0 2.83L4 21.41c.39.39.9.59 1.41.59.51 0 1.02-.2 1.41-.59l7.78-7.78 2.81-2.81c.8-.78.8-2.07 0-2.86zM5.41 20L4 18.59l7.72-7.72 1.47 1.35L5.41 20z\"/>\n",
              "  </svg>\n",
              "      </button>\n",
              "      \n",
              "  <style>\n",
              "    .colab-df-container {\n",
              "      display:flex;\n",
              "      flex-wrap:wrap;\n",
              "      gap: 12px;\n",
              "    }\n",
              "\n",
              "    .colab-df-convert {\n",
              "      background-color: #E8F0FE;\n",
              "      border: none;\n",
              "      border-radius: 50%;\n",
              "      cursor: pointer;\n",
              "      display: none;\n",
              "      fill: #1967D2;\n",
              "      height: 32px;\n",
              "      padding: 0 0 0 0;\n",
              "      width: 32px;\n",
              "    }\n",
              "\n",
              "    .colab-df-convert:hover {\n",
              "      background-color: #E2EBFA;\n",
              "      box-shadow: 0px 1px 2px rgba(60, 64, 67, 0.3), 0px 1px 3px 1px rgba(60, 64, 67, 0.15);\n",
              "      fill: #174EA6;\n",
              "    }\n",
              "\n",
              "    [theme=dark] .colab-df-convert {\n",
              "      background-color: #3B4455;\n",
              "      fill: #D2E3FC;\n",
              "    }\n",
              "\n",
              "    [theme=dark] .colab-df-convert:hover {\n",
              "      background-color: #434B5C;\n",
              "      box-shadow: 0px 1px 3px 1px rgba(0, 0, 0, 0.15);\n",
              "      filter: drop-shadow(0px 1px 2px rgba(0, 0, 0, 0.3));\n",
              "      fill: #FFFFFF;\n",
              "    }\n",
              "  </style>\n",
              "\n",
              "      <script>\n",
              "        const buttonEl =\n",
              "          document.querySelector('#df-25fce89b-eb16-449c-a2d1-297ef1f6aa19 button.colab-df-convert');\n",
              "        buttonEl.style.display =\n",
              "          google.colab.kernel.accessAllowed ? 'block' : 'none';\n",
              "\n",
              "        async function convertToInteractive(key) {\n",
              "          const element = document.querySelector('#df-25fce89b-eb16-449c-a2d1-297ef1f6aa19');\n",
              "          const dataTable =\n",
              "            await google.colab.kernel.invokeFunction('convertToInteractive',\n",
              "                                                     [key], {});\n",
              "          if (!dataTable) return;\n",
              "\n",
              "          const docLinkHtml = 'Like what you see? Visit the ' +\n",
              "            '<a target=\"_blank\" href=https://colab.research.google.com/notebooks/data_table.ipynb>data table notebook</a>'\n",
              "            + ' to learn more about interactive tables.';\n",
              "          element.innerHTML = '';\n",
              "          dataTable['output_type'] = 'display_data';\n",
              "          await google.colab.output.renderOutput(dataTable, element);\n",
              "          const docLink = document.createElement('div');\n",
              "          docLink.innerHTML = docLinkHtml;\n",
              "          element.appendChild(docLink);\n",
              "        }\n",
              "      </script>\n",
              "    </div>\n",
              "  </div>\n",
              "  "
            ],
            "text/plain": [
              "     studytime romantic  health  absences  G1  G2  G3\n",
              "0            2       no       3         6   5   6   6\n",
              "1            2       no       3         4   5   5   6\n",
              "2            2       no       3        10   7   8  10\n",
              "3            3      yes       5         2  15  14  15\n",
              "4            2       no       5         4   6  10  10\n",
              "..         ...      ...     ...       ...  ..  ..  ..\n",
              "390          2       no       4        11   9   9   9\n",
              "391          1       no       2         3  14  16  16\n",
              "392          1       no       3         3  10   8   7\n",
              "393          1       no       5         0  11  12  10\n",
              "394          1       no       5         5   8   9   9\n",
              "\n",
              "[395 rows x 7 columns]"
            ]
          },
          "execution_count": 5,
          "metadata": {},
          "output_type": "execute_result"
        }
      ],
      "source": [
        "#Nos quedamos con un total de 7 columnas\n",
        "datos= df.drop(['famsup','famrel','school','guardian','age','address','famsize','schoolsup','Medu','Fedu','Mjob','Fjob','reason','traveltime','Pstatus','sex','activities','nursery','higher','internet','goout','freetime','Dalc','Walc', 'paid', 'failures'], axis=1)\n",
        "datos"
      ]
    },
    {
      "cell_type": "markdown",
      "metadata": {
        "id": "_Sfl3ps01G7G"
      },
      "source": [
        "Si se observa la **variable G3**, muestra las notas que tienen los estudiaste entre 0 y 20. Sim embargo, se quiere analizar si los educandos aprueba o no el parcial, por lo que es necesario **transformar** esos valores en **números binarios**, de tal forma que los estudiante que esten por **debajo de 10** tengan el valor de **0 (Reprobados) ** y los que estan **por enciama de 10** el valor de **1 (aprobados)**. Para ellos se va a utilizar el siguiente comando."
      ]
    },
    {
      "cell_type": "code",
      "execution_count": 6,
      "metadata": {
        "colab": {
          "base_uri": "https://localhost:8080/",
          "height": 423
        },
        "id": "DfNLdfMf1Re_",
        "outputId": "9681c649-67c6-4e90-b3ad-9c1f913d9779"
      },
      "outputs": [
        {
          "data": {
            "text/html": [
              "\n",
              "  <div id=\"df-13f29372-b101-470a-a048-b7cb8c80aa1c\">\n",
              "    <div class=\"colab-df-container\">\n",
              "      <div>\n",
              "<style scoped>\n",
              "    .dataframe tbody tr th:only-of-type {\n",
              "        vertical-align: middle;\n",
              "    }\n",
              "\n",
              "    .dataframe tbody tr th {\n",
              "        vertical-align: top;\n",
              "    }\n",
              "\n",
              "    .dataframe thead th {\n",
              "        text-align: right;\n",
              "    }\n",
              "</style>\n",
              "<table border=\"1\" class=\"dataframe\">\n",
              "  <thead>\n",
              "    <tr style=\"text-align: right;\">\n",
              "      <th></th>\n",
              "      <th>studytime</th>\n",
              "      <th>romantic</th>\n",
              "      <th>health</th>\n",
              "      <th>absences</th>\n",
              "      <th>G1</th>\n",
              "      <th>G2</th>\n",
              "      <th>G3</th>\n",
              "    </tr>\n",
              "  </thead>\n",
              "  <tbody>\n",
              "    <tr>\n",
              "      <th>0</th>\n",
              "      <td>2</td>\n",
              "      <td>no</td>\n",
              "      <td>3</td>\n",
              "      <td>6</td>\n",
              "      <td>5</td>\n",
              "      <td>6</td>\n",
              "      <td>0</td>\n",
              "    </tr>\n",
              "    <tr>\n",
              "      <th>1</th>\n",
              "      <td>2</td>\n",
              "      <td>no</td>\n",
              "      <td>3</td>\n",
              "      <td>4</td>\n",
              "      <td>5</td>\n",
              "      <td>5</td>\n",
              "      <td>0</td>\n",
              "    </tr>\n",
              "    <tr>\n",
              "      <th>2</th>\n",
              "      <td>2</td>\n",
              "      <td>no</td>\n",
              "      <td>3</td>\n",
              "      <td>10</td>\n",
              "      <td>7</td>\n",
              "      <td>8</td>\n",
              "      <td>1</td>\n",
              "    </tr>\n",
              "    <tr>\n",
              "      <th>3</th>\n",
              "      <td>3</td>\n",
              "      <td>yes</td>\n",
              "      <td>5</td>\n",
              "      <td>2</td>\n",
              "      <td>15</td>\n",
              "      <td>14</td>\n",
              "      <td>1</td>\n",
              "    </tr>\n",
              "    <tr>\n",
              "      <th>4</th>\n",
              "      <td>2</td>\n",
              "      <td>no</td>\n",
              "      <td>5</td>\n",
              "      <td>4</td>\n",
              "      <td>6</td>\n",
              "      <td>10</td>\n",
              "      <td>1</td>\n",
              "    </tr>\n",
              "    <tr>\n",
              "      <th>...</th>\n",
              "      <td>...</td>\n",
              "      <td>...</td>\n",
              "      <td>...</td>\n",
              "      <td>...</td>\n",
              "      <td>...</td>\n",
              "      <td>...</td>\n",
              "      <td>...</td>\n",
              "    </tr>\n",
              "    <tr>\n",
              "      <th>390</th>\n",
              "      <td>2</td>\n",
              "      <td>no</td>\n",
              "      <td>4</td>\n",
              "      <td>11</td>\n",
              "      <td>9</td>\n",
              "      <td>9</td>\n",
              "      <td>0</td>\n",
              "    </tr>\n",
              "    <tr>\n",
              "      <th>391</th>\n",
              "      <td>1</td>\n",
              "      <td>no</td>\n",
              "      <td>2</td>\n",
              "      <td>3</td>\n",
              "      <td>14</td>\n",
              "      <td>16</td>\n",
              "      <td>1</td>\n",
              "    </tr>\n",
              "    <tr>\n",
              "      <th>392</th>\n",
              "      <td>1</td>\n",
              "      <td>no</td>\n",
              "      <td>3</td>\n",
              "      <td>3</td>\n",
              "      <td>10</td>\n",
              "      <td>8</td>\n",
              "      <td>0</td>\n",
              "    </tr>\n",
              "    <tr>\n",
              "      <th>393</th>\n",
              "      <td>1</td>\n",
              "      <td>no</td>\n",
              "      <td>5</td>\n",
              "      <td>0</td>\n",
              "      <td>11</td>\n",
              "      <td>12</td>\n",
              "      <td>1</td>\n",
              "    </tr>\n",
              "    <tr>\n",
              "      <th>394</th>\n",
              "      <td>1</td>\n",
              "      <td>no</td>\n",
              "      <td>5</td>\n",
              "      <td>5</td>\n",
              "      <td>8</td>\n",
              "      <td>9</td>\n",
              "      <td>0</td>\n",
              "    </tr>\n",
              "  </tbody>\n",
              "</table>\n",
              "<p>395 rows × 7 columns</p>\n",
              "</div>\n",
              "      <button class=\"colab-df-convert\" onclick=\"convertToInteractive('df-13f29372-b101-470a-a048-b7cb8c80aa1c')\"\n",
              "              title=\"Convert this dataframe to an interactive table.\"\n",
              "              style=\"display:none;\">\n",
              "        \n",
              "  <svg xmlns=\"http://www.w3.org/2000/svg\" height=\"24px\"viewBox=\"0 0 24 24\"\n",
              "       width=\"24px\">\n",
              "    <path d=\"M0 0h24v24H0V0z\" fill=\"none\"/>\n",
              "    <path d=\"M18.56 5.44l.94 2.06.94-2.06 2.06-.94-2.06-.94-.94-2.06-.94 2.06-2.06.94zm-11 1L8.5 8.5l.94-2.06 2.06-.94-2.06-.94L8.5 2.5l-.94 2.06-2.06.94zm10 10l.94 2.06.94-2.06 2.06-.94-2.06-.94-.94-2.06-.94 2.06-2.06.94z\"/><path d=\"M17.41 7.96l-1.37-1.37c-.4-.4-.92-.59-1.43-.59-.52 0-1.04.2-1.43.59L10.3 9.45l-7.72 7.72c-.78.78-.78 2.05 0 2.83L4 21.41c.39.39.9.59 1.41.59.51 0 1.02-.2 1.41-.59l7.78-7.78 2.81-2.81c.8-.78.8-2.07 0-2.86zM5.41 20L4 18.59l7.72-7.72 1.47 1.35L5.41 20z\"/>\n",
              "  </svg>\n",
              "      </button>\n",
              "      \n",
              "  <style>\n",
              "    .colab-df-container {\n",
              "      display:flex;\n",
              "      flex-wrap:wrap;\n",
              "      gap: 12px;\n",
              "    }\n",
              "\n",
              "    .colab-df-convert {\n",
              "      background-color: #E8F0FE;\n",
              "      border: none;\n",
              "      border-radius: 50%;\n",
              "      cursor: pointer;\n",
              "      display: none;\n",
              "      fill: #1967D2;\n",
              "      height: 32px;\n",
              "      padding: 0 0 0 0;\n",
              "      width: 32px;\n",
              "    }\n",
              "\n",
              "    .colab-df-convert:hover {\n",
              "      background-color: #E2EBFA;\n",
              "      box-shadow: 0px 1px 2px rgba(60, 64, 67, 0.3), 0px 1px 3px 1px rgba(60, 64, 67, 0.15);\n",
              "      fill: #174EA6;\n",
              "    }\n",
              "\n",
              "    [theme=dark] .colab-df-convert {\n",
              "      background-color: #3B4455;\n",
              "      fill: #D2E3FC;\n",
              "    }\n",
              "\n",
              "    [theme=dark] .colab-df-convert:hover {\n",
              "      background-color: #434B5C;\n",
              "      box-shadow: 0px 1px 3px 1px rgba(0, 0, 0, 0.15);\n",
              "      filter: drop-shadow(0px 1px 2px rgba(0, 0, 0, 0.3));\n",
              "      fill: #FFFFFF;\n",
              "    }\n",
              "  </style>\n",
              "\n",
              "      <script>\n",
              "        const buttonEl =\n",
              "          document.querySelector('#df-13f29372-b101-470a-a048-b7cb8c80aa1c button.colab-df-convert');\n",
              "        buttonEl.style.display =\n",
              "          google.colab.kernel.accessAllowed ? 'block' : 'none';\n",
              "\n",
              "        async function convertToInteractive(key) {\n",
              "          const element = document.querySelector('#df-13f29372-b101-470a-a048-b7cb8c80aa1c');\n",
              "          const dataTable =\n",
              "            await google.colab.kernel.invokeFunction('convertToInteractive',\n",
              "                                                     [key], {});\n",
              "          if (!dataTable) return;\n",
              "\n",
              "          const docLinkHtml = 'Like what you see? Visit the ' +\n",
              "            '<a target=\"_blank\" href=https://colab.research.google.com/notebooks/data_table.ipynb>data table notebook</a>'\n",
              "            + ' to learn more about interactive tables.';\n",
              "          element.innerHTML = '';\n",
              "          dataTable['output_type'] = 'display_data';\n",
              "          await google.colab.output.renderOutput(dataTable, element);\n",
              "          const docLink = document.createElement('div');\n",
              "          docLink.innerHTML = docLinkHtml;\n",
              "          element.appendChild(docLink);\n",
              "        }\n",
              "      </script>\n",
              "    </div>\n",
              "  </div>\n",
              "  "
            ],
            "text/plain": [
              "     studytime romantic  health  absences  G1  G2  G3\n",
              "0            2       no       3         6   5   6   0\n",
              "1            2       no       3         4   5   5   0\n",
              "2            2       no       3        10   7   8   1\n",
              "3            3      yes       5         2  15  14   1\n",
              "4            2       no       5         4   6  10   1\n",
              "..         ...      ...     ...       ...  ..  ..  ..\n",
              "390          2       no       4        11   9   9   0\n",
              "391          1       no       2         3  14  16   1\n",
              "392          1       no       3         3  10   8   0\n",
              "393          1       no       5         0  11  12   1\n",
              "394          1       no       5         5   8   9   0\n",
              "\n",
              "[395 rows x 7 columns]"
            ]
          },
          "execution_count": 6,
          "metadata": {},
          "output_type": "execute_result"
        }
      ],
      "source": [
        "datos['G3'] = datos['G3'].apply(lambda x: 0 if x < 10 else 1)\n",
        "datos['G3'].unique()\n",
        "datos"
      ]
    },
    {
      "cell_type": "markdown",
      "metadata": {
        "id": "DNSguWlN1XOd"
      },
      "source": [
        "Ahora **G3** tiene valores **numericos binarios**. Con estos valores se  puede ver cuantos estudiantes hay aprovados y cuantos reprovados mediate un digrama circular."
      ]
    },
    {
      "cell_type": "code",
      "execution_count": 7,
      "metadata": {
        "colab": {
          "base_uri": "https://localhost:8080/",
          "height": 143
        },
        "id": "rcqVigPn1ce5",
        "outputId": "60975c94-4e5b-46e0-90ad-744d541c2f7e"
      },
      "outputs": [
        {
          "data": {
            "text/html": [
              "\n",
              "  <div id=\"df-23660bba-f160-4cf1-9175-53452bd6f5cc\">\n",
              "    <div class=\"colab-df-container\">\n",
              "      <div>\n",
              "<style scoped>\n",
              "    .dataframe tbody tr th:only-of-type {\n",
              "        vertical-align: middle;\n",
              "    }\n",
              "\n",
              "    .dataframe tbody tr th {\n",
              "        vertical-align: top;\n",
              "    }\n",
              "\n",
              "    .dataframe thead th {\n",
              "        text-align: right;\n",
              "    }\n",
              "</style>\n",
              "<table border=\"1\" class=\"dataframe\">\n",
              "  <thead>\n",
              "    <tr style=\"text-align: right;\">\n",
              "      <th></th>\n",
              "      <th>frequency</th>\n",
              "    </tr>\n",
              "    <tr>\n",
              "      <th>G3</th>\n",
              "      <th></th>\n",
              "    </tr>\n",
              "  </thead>\n",
              "  <tbody>\n",
              "    <tr>\n",
              "      <th>0</th>\n",
              "      <td>130</td>\n",
              "    </tr>\n",
              "    <tr>\n",
              "      <th>1</th>\n",
              "      <td>265</td>\n",
              "    </tr>\n",
              "  </tbody>\n",
              "</table>\n",
              "</div>\n",
              "      <button class=\"colab-df-convert\" onclick=\"convertToInteractive('df-23660bba-f160-4cf1-9175-53452bd6f5cc')\"\n",
              "              title=\"Convert this dataframe to an interactive table.\"\n",
              "              style=\"display:none;\">\n",
              "        \n",
              "  <svg xmlns=\"http://www.w3.org/2000/svg\" height=\"24px\"viewBox=\"0 0 24 24\"\n",
              "       width=\"24px\">\n",
              "    <path d=\"M0 0h24v24H0V0z\" fill=\"none\"/>\n",
              "    <path d=\"M18.56 5.44l.94 2.06.94-2.06 2.06-.94-2.06-.94-.94-2.06-.94 2.06-2.06.94zm-11 1L8.5 8.5l.94-2.06 2.06-.94-2.06-.94L8.5 2.5l-.94 2.06-2.06.94zm10 10l.94 2.06.94-2.06 2.06-.94-2.06-.94-.94-2.06-.94 2.06-2.06.94z\"/><path d=\"M17.41 7.96l-1.37-1.37c-.4-.4-.92-.59-1.43-.59-.52 0-1.04.2-1.43.59L10.3 9.45l-7.72 7.72c-.78.78-.78 2.05 0 2.83L4 21.41c.39.39.9.59 1.41.59.51 0 1.02-.2 1.41-.59l7.78-7.78 2.81-2.81c.8-.78.8-2.07 0-2.86zM5.41 20L4 18.59l7.72-7.72 1.47 1.35L5.41 20z\"/>\n",
              "  </svg>\n",
              "      </button>\n",
              "      \n",
              "  <style>\n",
              "    .colab-df-container {\n",
              "      display:flex;\n",
              "      flex-wrap:wrap;\n",
              "      gap: 12px;\n",
              "    }\n",
              "\n",
              "    .colab-df-convert {\n",
              "      background-color: #E8F0FE;\n",
              "      border: none;\n",
              "      border-radius: 50%;\n",
              "      cursor: pointer;\n",
              "      display: none;\n",
              "      fill: #1967D2;\n",
              "      height: 32px;\n",
              "      padding: 0 0 0 0;\n",
              "      width: 32px;\n",
              "    }\n",
              "\n",
              "    .colab-df-convert:hover {\n",
              "      background-color: #E2EBFA;\n",
              "      box-shadow: 0px 1px 2px rgba(60, 64, 67, 0.3), 0px 1px 3px 1px rgba(60, 64, 67, 0.15);\n",
              "      fill: #174EA6;\n",
              "    }\n",
              "\n",
              "    [theme=dark] .colab-df-convert {\n",
              "      background-color: #3B4455;\n",
              "      fill: #D2E3FC;\n",
              "    }\n",
              "\n",
              "    [theme=dark] .colab-df-convert:hover {\n",
              "      background-color: #434B5C;\n",
              "      box-shadow: 0px 1px 3px 1px rgba(0, 0, 0, 0.15);\n",
              "      filter: drop-shadow(0px 1px 2px rgba(0, 0, 0, 0.3));\n",
              "      fill: #FFFFFF;\n",
              "    }\n",
              "  </style>\n",
              "\n",
              "      <script>\n",
              "        const buttonEl =\n",
              "          document.querySelector('#df-23660bba-f160-4cf1-9175-53452bd6f5cc button.colab-df-convert');\n",
              "        buttonEl.style.display =\n",
              "          google.colab.kernel.accessAllowed ? 'block' : 'none';\n",
              "\n",
              "        async function convertToInteractive(key) {\n",
              "          const element = document.querySelector('#df-23660bba-f160-4cf1-9175-53452bd6f5cc');\n",
              "          const dataTable =\n",
              "            await google.colab.kernel.invokeFunction('convertToInteractive',\n",
              "                                                     [key], {});\n",
              "          if (!dataTable) return;\n",
              "\n",
              "          const docLinkHtml = 'Like what you see? Visit the ' +\n",
              "            '<a target=\"_blank\" href=https://colab.research.google.com/notebooks/data_table.ipynb>data table notebook</a>'\n",
              "            + ' to learn more about interactive tables.';\n",
              "          element.innerHTML = '';\n",
              "          dataTable['output_type'] = 'display_data';\n",
              "          await google.colab.output.renderOutput(dataTable, element);\n",
              "          const docLink = document.createElement('div');\n",
              "          docLink.innerHTML = docLinkHtml;\n",
              "          element.appendChild(docLink);\n",
              "        }\n",
              "      </script>\n",
              "    </div>\n",
              "  </div>\n",
              "  "
            ],
            "text/plain": [
              "    frequency\n",
              "G3           \n",
              "0         130\n",
              "1         265"
            ]
          },
          "execution_count": 7,
          "metadata": {},
          "output_type": "execute_result"
        }
      ],
      "source": [
        "datos.groupby(\"G3\").agg(frequency=(\"G3\", \"count\"))"
      ]
    },
    {
      "cell_type": "code",
      "execution_count": 8,
      "metadata": {
        "colab": {
          "base_uri": "https://localhost:8080/",
          "height": 247
        },
        "id": "RLjzXpuD1hYK",
        "outputId": "1a2e1015-70cd-4967-f7ee-53cfe608bd84"
      },
      "outputs": [
        {
          "data": {
            "image/png": "[encoded data removed]",
            "text/plain": [
              "<Figure size 432x288 with 1 Axes>"
            ]
          },
          "metadata": {},
          "output_type": "display_data"
        }
      ],
      "source": [
        "plt.pie(datos['G3'].value_counts(), shadow=True, autopct=\"%0.1f %%\", labels=['Aprobados ','Reprobados'], colors=[\"yellow\",  \"orange\"])\n",
        "plt.show()"
      ]
    },
    {
      "cell_type": "markdown",
      "metadata": {
        "id": "VqpRHJj91sMo"
      },
      "source": [
        "Sin embargo hay otro problema en el datset.Si nos fijamos en la **columna romantic** , se observa **valores no numéricos**, por lo que será necesario hacer una **coversion a valores binarios**. Como se tratan de valores categoricos, se puede hacer la tranofrmacion con la misma linea de codigo que se utilizó para la variable anterior de tal forma que la **palabra no, sera un 0** y la **palabra si, equivaldrá a 1**"
      ]
    },
    {
      "cell_type": "code",
      "execution_count": 9,
      "metadata": {
        "colab": {
          "base_uri": "https://localhost:8080/",
          "height": 423
        },
        "id": "sRst7V7W1xxs",
        "outputId": "68f9ff3b-ebb0-4018-cccd-d8dc58930739"
      },
      "outputs": [
        {
          "data": {
            "text/html": [
              "\n",
              "  <div id=\"df-791e84a6-61ba-4266-acad-d24ce12734b6\">\n",
              "    <div class=\"colab-df-container\">\n",
              "      <div>\n",
              "<style scoped>\n",
              "    .dataframe tbody tr th:only-of-type {\n",
              "        vertical-align: middle;\n",
              "    }\n",
              "\n",
              "    .dataframe tbody tr th {\n",
              "        vertical-align: top;\n",
              "    }\n",
              "\n",
              "    .dataframe thead th {\n",
              "        text-align: right;\n",
              "    }\n",
              "</style>\n",
              "<table border=\"1\" class=\"dataframe\">\n",
              "  <thead>\n",
              "    <tr style=\"text-align: right;\">\n",
              "      <th></th>\n",
              "      <th>studytime</th>\n",
              "      <th>romantic</th>\n",
              "      <th>health</th>\n",
              "      <th>absences</th>\n",
              "      <th>G1</th>\n",
              "      <th>G2</th>\n",
              "      <th>G3</th>\n",
              "    </tr>\n",
              "  </thead>\n",
              "  <tbody>\n",
              "    <tr>\n",
              "      <th>0</th>\n",
              "      <td>2</td>\n",
              "      <td>0</td>\n",
              "      <td>3</td>\n",
              "      <td>6</td>\n",
              "      <td>5</td>\n",
              "      <td>6</td>\n",
              "      <td>0</td>\n",
              "    </tr>\n",
              "    <tr>\n",
              "      <th>1</th>\n",
              "      <td>2</td>\n",
              "      <td>0</td>\n",
              "      <td>3</td>\n",
              "      <td>4</td>\n",
              "      <td>5</td>\n",
              "      <td>5</td>\n",
              "      <td>0</td>\n",
              "    </tr>\n",
              "    <tr>\n",
              "      <th>2</th>\n",
              "      <td>2</td>\n",
              "      <td>0</td>\n",
              "      <td>3</td>\n",
              "      <td>10</td>\n",
              "      <td>7</td>\n",
              "      <td>8</td>\n",
              "      <td>1</td>\n",
              "    </tr>\n",
              "    <tr>\n",
              "      <th>3</th>\n",
              "      <td>3</td>\n",
              "      <td>1</td>\n",
              "      <td>5</td>\n",
              "      <td>2</td>\n",
              "      <td>15</td>\n",
              "      <td>14</td>\n",
              "      <td>1</td>\n",
              "    </tr>\n",
              "    <tr>\n",
              "      <th>4</th>\n",
              "      <td>2</td>\n",
              "      <td>0</td>\n",
              "      <td>5</td>\n",
              "      <td>4</td>\n",
              "      <td>6</td>\n",
              "      <td>10</td>\n",
              "      <td>1</td>\n",
              "    </tr>\n",
              "    <tr>\n",
              "      <th>...</th>\n",
              "      <td>...</td>\n",
              "      <td>...</td>\n",
              "      <td>...</td>\n",
              "      <td>...</td>\n",
              "      <td>...</td>\n",
              "      <td>...</td>\n",
              "      <td>...</td>\n",
              "    </tr>\n",
              "    <tr>\n",
              "      <th>390</th>\n",
              "      <td>2</td>\n",
              "      <td>0</td>\n",
              "      <td>4</td>\n",
              "      <td>11</td>\n",
              "      <td>9</td>\n",
              "      <td>9</td>\n",
              "      <td>0</td>\n",
              "    </tr>\n",
              "    <tr>\n",
              "      <th>391</th>\n",
              "      <td>1</td>\n",
              "      <td>0</td>\n",
              "      <td>2</td>\n",
              "      <td>3</td>\n",
              "      <td>14</td>\n",
              "      <td>16</td>\n",
              "      <td>1</td>\n",
              "    </tr>\n",
              "    <tr>\n",
              "      <th>392</th>\n",
              "      <td>1</td>\n",
              "      <td>0</td>\n",
              "      <td>3</td>\n",
              "      <td>3</td>\n",
              "      <td>10</td>\n",
              "      <td>8</td>\n",
              "      <td>0</td>\n",
              "    </tr>\n",
              "    <tr>\n",
              "      <th>393</th>\n",
              "      <td>1</td>\n",
              "      <td>0</td>\n",
              "      <td>5</td>\n",
              "      <td>0</td>\n",
              "      <td>11</td>\n",
              "      <td>12</td>\n",
              "      <td>1</td>\n",
              "    </tr>\n",
              "    <tr>\n",
              "      <th>394</th>\n",
              "      <td>1</td>\n",
              "      <td>0</td>\n",
              "      <td>5</td>\n",
              "      <td>5</td>\n",
              "      <td>8</td>\n",
              "      <td>9</td>\n",
              "      <td>0</td>\n",
              "    </tr>\n",
              "  </tbody>\n",
              "</table>\n",
              "<p>395 rows × 7 columns</p>\n",
              "</div>\n",
              "      <button class=\"colab-df-convert\" onclick=\"convertToInteractive('df-791e84a6-61ba-4266-acad-d24ce12734b6')\"\n",
              "              title=\"Convert this dataframe to an interactive table.\"\n",
              "              style=\"display:none;\">\n",
              "        \n",
              "  <svg xmlns=\"http://www.w3.org/2000/svg\" height=\"24px\"viewBox=\"0 0 24 24\"\n",
              "       width=\"24px\">\n",
              "    <path d=\"M0 0h24v24H0V0z\" fill=\"none\"/>\n",
              "    <path d=\"M18.56 5.44l.94 2.06.94-2.06 2.06-.94-2.06-.94-.94-2.06-.94 2.06-2.06.94zm-11 1L8.5 8.5l.94-2.06 2.06-.94-2.06-.94L8.5 2.5l-.94 2.06-2.06.94zm10 10l.94 2.06.94-2.06 2.06-.94-2.06-.94-.94-2.06-.94 2.06-2.06.94z\"/><path d=\"M17.41 7.96l-1.37-1.37c-.4-.4-.92-.59-1.43-.59-.52 0-1.04.2-1.43.59L10.3 9.45l-7.72 7.72c-.78.78-.78 2.05 0 2.83L4 21.41c.39.39.9.59 1.41.59.51 0 1.02-.2 1.41-.59l7.78-7.78 2.81-2.81c.8-.78.8-2.07 0-2.86zM5.41 20L4 18.59l7.72-7.72 1.47 1.35L5.41 20z\"/>\n",
              "  </svg>\n",
              "      </button>\n",
              "      \n",
              "  <style>\n",
              "    .colab-df-container {\n",
              "      display:flex;\n",
              "      flex-wrap:wrap;\n",
              "      gap: 12px;\n",
              "    }\n",
              "\n",
              "    .colab-df-convert {\n",
              "      background-color: #E8F0FE;\n",
              "      border: none;\n",
              "      border-radius: 50%;\n",
              "      cursor: pointer;\n",
              "      display: none;\n",
              "      fill: #1967D2;\n",
              "      height: 32px;\n",
              "      padding: 0 0 0 0;\n",
              "      width: 32px;\n",
              "    }\n",
              "\n",
              "    .colab-df-convert:hover {\n",
              "      background-color: #E2EBFA;\n",
              "      box-shadow: 0px 1px 2px rgba(60, 64, 67, 0.3), 0px 1px 3px 1px rgba(60, 64, 67, 0.15);\n",
              "      fill: #174EA6;\n",
              "    }\n",
              "\n",
              "    [theme=dark] .colab-df-convert {\n",
              "      background-color: #3B4455;\n",
              "      fill: #D2E3FC;\n",
              "    }\n",
              "\n",
              "    [theme=dark] .colab-df-convert:hover {\n",
              "      background-color: #434B5C;\n",
              "      box-shadow: 0px 1px 3px 1px rgba(0, 0, 0, 0.15);\n",
              "      filter: drop-shadow(0px 1px 2px rgba(0, 0, 0, 0.3));\n",
              "      fill: #FFFFFF;\n",
              "    }\n",
              "  </style>\n",
              "\n",
              "      <script>\n",
              "        const buttonEl =\n",
              "          document.querySelector('#df-791e84a6-61ba-4266-acad-d24ce12734b6 button.colab-df-convert');\n",
              "        buttonEl.style.display =\n",
              "          google.colab.kernel.accessAllowed ? 'block' : 'none';\n",
              "\n",
              "        async function convertToInteractive(key) {\n",
              "          const element = document.querySelector('#df-791e84a6-61ba-4266-acad-d24ce12734b6');\n",
              "          const dataTable =\n",
              "            await google.colab.kernel.invokeFunction('convertToInteractive',\n",
              "                                                     [key], {});\n",
              "          if (!dataTable) return;\n",
              "\n",
              "          const docLinkHtml = 'Like what you see? Visit the ' +\n",
              "            '<a target=\"_blank\" href=https://colab.research.google.com/notebooks/data_table.ipynb>data table notebook</a>'\n",
              "            + ' to learn more about interactive tables.';\n",
              "          element.innerHTML = '';\n",
              "          dataTable['output_type'] = 'display_data';\n",
              "          await google.colab.output.renderOutput(dataTable, element);\n",
              "          const docLink = document.createElement('div');\n",
              "          docLink.innerHTML = docLinkHtml;\n",
              "          element.appendChild(docLink);\n",
              "        }\n",
              "      </script>\n",
              "    </div>\n",
              "  </div>\n",
              "  "
            ],
            "text/plain": [
              "     studytime  romantic  health  absences  G1  G2  G3\n",
              "0            2         0       3         6   5   6   0\n",
              "1            2         0       3         4   5   5   0\n",
              "2            2         0       3        10   7   8   1\n",
              "3            3         1       5         2  15  14   1\n",
              "4            2         0       5         4   6  10   1\n",
              "..         ...       ...     ...       ...  ..  ..  ..\n",
              "390          2         0       4        11   9   9   0\n",
              "391          1         0       2         3  14  16   1\n",
              "392          1         0       3         3  10   8   0\n",
              "393          1         0       5         0  11  12   1\n",
              "394          1         0       5         5   8   9   0\n",
              "\n",
              "[395 rows x 7 columns]"
            ]
          },
          "execution_count": 9,
          "metadata": {},
          "output_type": "execute_result"
        }
      ],
      "source": [
        "datos['romantic'] = datos['romantic'].apply(lambda x: 0 if x=='no' else 1)\n",
        "datos['romantic'].unique()\n",
        "datos"
      ]
    },
    {
      "cell_type": "markdown",
      "metadata": {
        "id": "SE5GqP601915"
      },
      "source": [
        "Antes de pasar a la parte del **Machine Learning** es necesario comprobar que no existan valores nulos en el **dataset**"
      ]
    },
    {
      "cell_type": "code",
      "execution_count": 10,
      "metadata": {
        "colab": {
          "base_uri": "https://localhost:8080/",
          "height": 283
        },
        "id": "LYbZtTXkTPj-",
        "outputId": "034d1948-8412-4105-bad1-5b63c973f2c7"
      },
      "outputs": [
        {
          "data": {
            "text/plain": [
              "<matplotlib.axes._subplots.AxesSubplot at 0x7f7cbc98cd90>"
            ]
          },
          "execution_count": 10,
          "metadata": {},
          "output_type": "execute_result"
        },
        {
          "data": {
            "image/png": "[encoded data removed]",
            "text/plain": [
              "<Figure size 432x288 with 1 Axes>"
            ]
          },
          "metadata": {
            "needs_background": "light"
          },
          "output_type": "display_data"
        }
      ],
      "source": [
        "sb.heatmap(datos.isnull(), cbar=False, yticklabels=False, cmap='plasma')"
      ]
    },
    {
      "cell_type": "code",
      "execution_count": 11,
      "metadata": {
        "colab": {
          "base_uri": "https://localhost:8080/"
        },
        "id": "gycQNhWFX990",
        "outputId": "6cafd302-4bd5-4b3a-e36d-635f97953b46"
      },
      "outputs": [
        {
          "name": "stdout",
          "output_type": "stream",
          "text": [
            "(395, 7)\n"
          ]
        }
      ],
      "source": [
        "#Resumen del dataset\n",
        "print(datos.shape)"
      ]
    },
    {
      "cell_type": "code",
      "execution_count": 12,
      "metadata": {
        "colab": {
          "base_uri": "https://localhost:8080/",
          "height": 300
        },
        "id": "tNHz4Zw0YJnD",
        "outputId": "55def72c-d92b-4dfb-b839-5a644d46e1c0"
      },
      "outputs": [
        {
          "data": {
            "text/html": [
              "\n",
              "  <div id=\"df-3e21fafa-b264-4343-bad5-89f4f21e0390\">\n",
              "    <div class=\"colab-df-container\">\n",
              "      <div>\n",
              "<style scoped>\n",
              "    .dataframe tbody tr th:only-of-type {\n",
              "        vertical-align: middle;\n",
              "    }\n",
              "\n",
              "    .dataframe tbody tr th {\n",
              "        vertical-align: top;\n",
              "    }\n",
              "\n",
              "    .dataframe thead th {\n",
              "        text-align: right;\n",
              "    }\n",
              "</style>\n",
              "<table border=\"1\" class=\"dataframe\">\n",
              "  <thead>\n",
              "    <tr style=\"text-align: right;\">\n",
              "      <th></th>\n",
              "      <th>studytime</th>\n",
              "      <th>romantic</th>\n",
              "      <th>health</th>\n",
              "      <th>absences</th>\n",
              "      <th>G1</th>\n",
              "      <th>G2</th>\n",
              "      <th>G3</th>\n",
              "    </tr>\n",
              "  </thead>\n",
              "  <tbody>\n",
              "    <tr>\n",
              "      <th>count</th>\n",
              "      <td>395.000000</td>\n",
              "      <td>395.000000</td>\n",
              "      <td>395.000000</td>\n",
              "      <td>395.000000</td>\n",
              "      <td>395.000000</td>\n",
              "      <td>395.000000</td>\n",
              "      <td>395.000000</td>\n",
              "    </tr>\n",
              "    <tr>\n",
              "      <th>mean</th>\n",
              "      <td>2.035443</td>\n",
              "      <td>0.334177</td>\n",
              "      <td>3.554430</td>\n",
              "      <td>5.708861</td>\n",
              "      <td>10.908861</td>\n",
              "      <td>10.713924</td>\n",
              "      <td>0.670886</td>\n",
              "    </tr>\n",
              "    <tr>\n",
              "      <th>std</th>\n",
              "      <td>0.839240</td>\n",
              "      <td>0.472300</td>\n",
              "      <td>1.390303</td>\n",
              "      <td>8.003096</td>\n",
              "      <td>3.319195</td>\n",
              "      <td>3.761505</td>\n",
              "      <td>0.470487</td>\n",
              "    </tr>\n",
              "    <tr>\n",
              "      <th>min</th>\n",
              "      <td>1.000000</td>\n",
              "      <td>0.000000</td>\n",
              "      <td>1.000000</td>\n",
              "      <td>0.000000</td>\n",
              "      <td>3.000000</td>\n",
              "      <td>0.000000</td>\n",
              "      <td>0.000000</td>\n",
              "    </tr>\n",
              "    <tr>\n",
              "      <th>25%</th>\n",
              "      <td>1.000000</td>\n",
              "      <td>0.000000</td>\n",
              "      <td>3.000000</td>\n",
              "      <td>0.000000</td>\n",
              "      <td>8.000000</td>\n",
              "      <td>9.000000</td>\n",
              "      <td>0.000000</td>\n",
              "    </tr>\n",
              "    <tr>\n",
              "      <th>50%</th>\n",
              "      <td>2.000000</td>\n",
              "      <td>0.000000</td>\n",
              "      <td>4.000000</td>\n",
              "      <td>4.000000</td>\n",
              "      <td>11.000000</td>\n",
              "      <td>11.000000</td>\n",
              "      <td>1.000000</td>\n",
              "    </tr>\n",
              "    <tr>\n",
              "      <th>75%</th>\n",
              "      <td>2.000000</td>\n",
              "      <td>1.000000</td>\n",
              "      <td>5.000000</td>\n",
              "      <td>8.000000</td>\n",
              "      <td>13.000000</td>\n",
              "      <td>13.000000</td>\n",
              "      <td>1.000000</td>\n",
              "    </tr>\n",
              "    <tr>\n",
              "      <th>max</th>\n",
              "      <td>4.000000</td>\n",
              "      <td>1.000000</td>\n",
              "      <td>5.000000</td>\n",
              "      <td>75.000000</td>\n",
              "      <td>19.000000</td>\n",
              "      <td>19.000000</td>\n",
              "      <td>1.000000</td>\n",
              "    </tr>\n",
              "  </tbody>\n",
              "</table>\n",
              "</div>\n",
              "      <button class=\"colab-df-convert\" onclick=\"convertToInteractive('df-3e21fafa-b264-4343-bad5-89f4f21e0390')\"\n",
              "              title=\"Convert this dataframe to an interactive table.\"\n",
              "              style=\"display:none;\">\n",
              "        \n",
              "  <svg xmlns=\"http://www.w3.org/2000/svg\" height=\"24px\"viewBox=\"0 0 24 24\"\n",
              "       width=\"24px\">\n",
              "    <path d=\"M0 0h24v24H0V0z\" fill=\"none\"/>\n",
              "    <path d=\"M18.56 5.44l.94 2.06.94-2.06 2.06-.94-2.06-.94-.94-2.06-.94 2.06-2.06.94zm-11 1L8.5 8.5l.94-2.06 2.06-.94-2.06-.94L8.5 2.5l-.94 2.06-2.06.94zm10 10l.94 2.06.94-2.06 2.06-.94-2.06-.94-.94-2.06-.94 2.06-2.06.94z\"/><path d=\"M17.41 7.96l-1.37-1.37c-.4-.4-.92-.59-1.43-.59-.52 0-1.04.2-1.43.59L10.3 9.45l-7.72 7.72c-.78.78-.78 2.05 0 2.83L4 21.41c.39.39.9.59 1.41.59.51 0 1.02-.2 1.41-.59l7.78-7.78 2.81-2.81c.8-.78.8-2.07 0-2.86zM5.41 20L4 18.59l7.72-7.72 1.47 1.35L5.41 20z\"/>\n",
              "  </svg>\n",
              "      </button>\n",
              "      \n",
              "  <style>\n",
              "    .colab-df-container {\n",
              "      display:flex;\n",
              "      flex-wrap:wrap;\n",
              "      gap: 12px;\n",
              "    }\n",
              "\n",
              "    .colab-df-convert {\n",
              "      background-color: #E8F0FE;\n",
              "      border: none;\n",
              "      border-radius: 50%;\n",
              "      cursor: pointer;\n",
              "      display: none;\n",
              "      fill: #1967D2;\n",
              "      height: 32px;\n",
              "      padding: 0 0 0 0;\n",
              "      width: 32px;\n",
              "    }\n",
              "\n",
              "    .colab-df-convert:hover {\n",
              "      background-color: #E2EBFA;\n",
              "      box-shadow: 0px 1px 2px rgba(60, 64, 67, 0.3), 0px 1px 3px 1px rgba(60, 64, 67, 0.15);\n",
              "      fill: #174EA6;\n",
              "    }\n",
              "\n",
              "    [theme=dark] .colab-df-convert {\n",
              "      background-color: #3B4455;\n",
              "      fill: #D2E3FC;\n",
              "    }\n",
              "\n",
              "    [theme=dark] .colab-df-convert:hover {\n",
              "      background-color: #434B5C;\n",
              "      box-shadow: 0px 1px 3px 1px rgba(0, 0, 0, 0.15);\n",
              "      filter: drop-shadow(0px 1px 2px rgba(0, 0, 0, 0.3));\n",
              "      fill: #FFFFFF;\n",
              "    }\n",
              "  </style>\n",
              "\n",
              "      <script>\n",
              "        const buttonEl =\n",
              "          document.querySelector('#df-3e21fafa-b264-4343-bad5-89f4f21e0390 button.colab-df-convert');\n",
              "        buttonEl.style.display =\n",
              "          google.colab.kernel.accessAllowed ? 'block' : 'none';\n",
              "\n",
              "        async function convertToInteractive(key) {\n",
              "          const element = document.querySelector('#df-3e21fafa-b264-4343-bad5-89f4f21e0390');\n",
              "          const dataTable =\n",
              "            await google.colab.kernel.invokeFunction('convertToInteractive',\n",
              "                                                     [key], {});\n",
              "          if (!dataTable) return;\n",
              "\n",
              "          const docLinkHtml = 'Like what you see? Visit the ' +\n",
              "            '<a target=\"_blank\" href=https://colab.research.google.com/notebooks/data_table.ipynb>data table notebook</a>'\n",
              "            + ' to learn more about interactive tables.';\n",
              "          element.innerHTML = '';\n",
              "          dataTable['output_type'] = 'display_data';\n",
              "          await google.colab.output.renderOutput(dataTable, element);\n",
              "          const docLink = document.createElement('div');\n",
              "          docLink.innerHTML = docLinkHtml;\n",
              "          element.appendChild(docLink);\n",
              "        }\n",
              "      </script>\n",
              "    </div>\n",
              "  </div>\n",
              "  "
            ],
            "text/plain": [
              "        studytime    romantic      health  ...          G1          G2          G3\n",
              "count  395.000000  395.000000  395.000000  ...  395.000000  395.000000  395.000000\n",
              "mean     2.035443    0.334177    3.554430  ...   10.908861   10.713924    0.670886\n",
              "std      0.839240    0.472300    1.390303  ...    3.319195    3.761505    0.470487\n",
              "min      1.000000    0.000000    1.000000  ...    3.000000    0.000000    0.000000\n",
              "25%      1.000000    0.000000    3.000000  ...    8.000000    9.000000    0.000000\n",
              "50%      2.000000    0.000000    4.000000  ...   11.000000   11.000000    1.000000\n",
              "75%      2.000000    1.000000    5.000000  ...   13.000000   13.000000    1.000000\n",
              "max      4.000000    1.000000    5.000000  ...   19.000000   19.000000    1.000000\n",
              "\n",
              "[8 rows x 7 columns]"
            ]
          },
          "execution_count": 12,
          "metadata": {},
          "output_type": "execute_result"
        }
      ],
      "source": [
        "\n",
        "datos.describe()"
      ]
    },
    {
      "cell_type": "code",
      "execution_count": 13,
      "metadata": {
        "colab": {
          "base_uri": "https://localhost:8080/"
        },
        "id": "vKXgPF1e22T9",
        "outputId": "5f89a4c8-e7bd-4d0d-96e2-01aebb4ed311"
      },
      "outputs": [
        {
          "name": "stdout",
          "output_type": "stream",
          "text": [
            "<class 'pandas.core.frame.DataFrame'>\n",
            "RangeIndex: 395 entries, 0 to 394\n",
            "Data columns (total 7 columns):\n",
            " #   Column     Non-Null Count  Dtype\n",
            "---  ------     --------------  -----\n",
            " 0   studytime  395 non-null    int64\n",
            " 1   romantic   395 non-null    int64\n",
            " 2   health     395 non-null    int64\n",
            " 3   absences   395 non-null    int64\n",
            " 4   G1         395 non-null    int64\n",
            " 5   G2         395 non-null    int64\n",
            " 6   G3         395 non-null    int64\n",
            "dtypes: int64(7)\n",
            "memory usage: 21.7 KB\n"
          ]
        }
      ],
      "source": [
        "#mas nformacin\n",
        "datos.info()"
      ]
    },
    {
      "cell_type": "code",
      "execution_count": 14,
      "metadata": {
        "colab": {
          "base_uri": "https://localhost:8080/",
          "height": 283
        },
        "id": "QNxX8grj3Yd8",
        "outputId": "a4d20831-1ba8-44a4-a2e4-61527f2344f7"
      },
      "outputs": [
        {
          "data": {
            "text/plain": [
              "<matplotlib.axes._subplots.AxesSubplot at 0x7f7cb4064f90>"
            ]
          },
          "execution_count": 14,
          "metadata": {},
          "output_type": "execute_result"
        },
        {
          "data": {
            "image/png": "[encoded data removed]",
            "text/plain": [
              "<Figure size 432x288 with 1 Axes>"
            ]
          },
          "metadata": {
            "needs_background": "light"
          },
          "output_type": "display_data"
        }
      ],
      "source": [
        "# graficando el dataset\n",
        "datos.plot(kind='box', sharex=False, sharey=False)"
      ]
    },
    {
      "cell_type": "code",
      "execution_count": 16,
      "metadata": {
        "colab": {
          "base_uri": "https://localhost:8080/",
          "height": 691
        },
        "id": "qgDJgqwh3kAy",
        "outputId": "d0f77f7d-e43e-45db-9956-b12e09af18d3"
      },
      "outputs": [
        {
          "data": {
            "text/plain": [
              "[None, None, None, None, None, None, None, None, None]"
            ]
          },
          "execution_count": 16,
          "metadata": {},
          "output_type": "execute_result"
        },
        {
          "data": {
            "image/png": "[encoded data removed]",
            "text/plain": [
              "<Figure size 3600x2160 with 9 Axes>"
            ]
          },
          "metadata": {
            "needs_background": "light"
          },
          "output_type": "display_data"
        }
      ],
      "source": [
        "# histogramas\n",
        "fig = datos.hist(figsize=(50, 30))\n",
        "[x.title.set_size(32) for x in fig.ravel()]\n",
        "#datos.hist(edgecolor='red', linewidth=1)"
      ]
    },
    {
      "cell_type": "code",
      "execution_count": 17,
      "metadata": {
        "colab": {
          "base_uri": "https://localhost:8080/",
          "height": 328
        },
        "id": "40GQzs5f4YeO",
        "outputId": "8e0bff29-9d3e-4df4-eccf-76f686da87a2"
      },
      "outputs": [
        {
          "data": {
            "text/plain": [
              "<matplotlib.axes._subplots.AxesSubplot at 0x7f7cbceab350>"
            ]
          },
          "execution_count": 17,
          "metadata": {},
          "output_type": "execute_result"
        },
        {
          "data": {
            "image/png": "[encoded data removed]",
            "text/plain": [
              "<Figure size 432x288 with 2 Axes>"
            ]
          },
          "metadata": {
            "needs_background": "light"
          },
          "output_type": "display_data"
        }
      ],
      "source": [
        "sb.heatmap(datos.corr(), annot=True)"
      ]
    },
    {
      "cell_type": "markdown",
      "metadata": {
        "id": "9FOVylSv5b3P"
      },
      "source": [
        "# **Algoritmos de aprendizaje supervisado (clasificación y regresión)**"
      ]
    },
    {
      "cell_type": "markdown",
      "metadata": {
        "id": "jbxptDac5hQG"
      },
      "source": [
        "**Importando métricas para evaluación**"
      ]
    },
    {
      "cell_type": "code",
      "execution_count": 18,
      "metadata": {
        "id": "-OKR7Xli5hv_"
      },
      "outputs": [],
      "source": [
        "from sklearn.metrics import confusion_matrix\n",
        "from sklearn.metrics import classification_report\n",
        "from sklearn.model_selection import train_test_split"
      ]
    },
    {
      "cell_type": "markdown",
      "metadata": {
        "id": "gHaTiqQJ5wp6"
      },
      "source": [
        "# Separando los datos en variables dependientes e independientes y dividiendo el dataset en entrenamiento y prueba"
      ]
    },
    {
      "cell_type": "code",
      "execution_count": 19,
      "metadata": {
        "colab": {
          "base_uri": "https://localhost:8080/",
          "height": 423
        },
        "id": "432j7kIRsVFX",
        "outputId": "23decd12-4e51-4673-e2bb-091f4e1f332d"
      },
      "outputs": [
        {
          "data": {
            "text/html": [
              "\n",
              "  <div id=\"df-228865f5-21f7-49bf-9698-6e6e7d0ee2b0\">\n",
              "    <div class=\"colab-df-container\">\n",
              "      <div>\n",
              "<style scoped>\n",
              "    .dataframe tbody tr th:only-of-type {\n",
              "        vertical-align: middle;\n",
              "    }\n",
              "\n",
              "    .dataframe tbody tr th {\n",
              "        vertical-align: top;\n",
              "    }\n",
              "\n",
              "    .dataframe thead th {\n",
              "        text-align: right;\n",
              "    }\n",
              "</style>\n",
              "<table border=\"1\" class=\"dataframe\">\n",
              "  <thead>\n",
              "    <tr style=\"text-align: right;\">\n",
              "      <th></th>\n",
              "      <th>studytime</th>\n",
              "      <th>romantic</th>\n",
              "      <th>health</th>\n",
              "      <th>absences</th>\n",
              "      <th>G1</th>\n",
              "      <th>G2</th>\n",
              "      <th>G3</th>\n",
              "    </tr>\n",
              "  </thead>\n",
              "  <tbody>\n",
              "    <tr>\n",
              "      <th>0</th>\n",
              "      <td>2</td>\n",
              "      <td>0</td>\n",
              "      <td>3</td>\n",
              "      <td>6</td>\n",
              "      <td>5</td>\n",
              "      <td>6</td>\n",
              "      <td>0</td>\n",
              "    </tr>\n",
              "    <tr>\n",
              "      <th>1</th>\n",
              "      <td>2</td>\n",
              "      <td>0</td>\n",
              "      <td>3</td>\n",
              "      <td>4</td>\n",
              "      <td>5</td>\n",
              "      <td>5</td>\n",
              "      <td>0</td>\n",
              "    </tr>\n",
              "    <tr>\n",
              "      <th>2</th>\n",
              "      <td>2</td>\n",
              "      <td>0</td>\n",
              "      <td>3</td>\n",
              "      <td>10</td>\n",
              "      <td>7</td>\n",
              "      <td>8</td>\n",
              "      <td>1</td>\n",
              "    </tr>\n",
              "    <tr>\n",
              "      <th>3</th>\n",
              "      <td>3</td>\n",
              "      <td>1</td>\n",
              "      <td>5</td>\n",
              "      <td>2</td>\n",
              "      <td>15</td>\n",
              "      <td>14</td>\n",
              "      <td>1</td>\n",
              "    </tr>\n",
              "    <tr>\n",
              "      <th>4</th>\n",
              "      <td>2</td>\n",
              "      <td>0</td>\n",
              "      <td>5</td>\n",
              "      <td>4</td>\n",
              "      <td>6</td>\n",
              "      <td>10</td>\n",
              "      <td>1</td>\n",
              "    </tr>\n",
              "    <tr>\n",
              "      <th>...</th>\n",
              "      <td>...</td>\n",
              "      <td>...</td>\n",
              "      <td>...</td>\n",
              "      <td>...</td>\n",
              "      <td>...</td>\n",
              "      <td>...</td>\n",
              "      <td>...</td>\n",
              "    </tr>\n",
              "    <tr>\n",
              "      <th>390</th>\n",
              "      <td>2</td>\n",
              "      <td>0</td>\n",
              "      <td>4</td>\n",
              "      <td>11</td>\n",
              "      <td>9</td>\n",
              "      <td>9</td>\n",
              "      <td>0</td>\n",
              "    </tr>\n",
              "    <tr>\n",
              "      <th>391</th>\n",
              "      <td>1</td>\n",
              "      <td>0</td>\n",
              "      <td>2</td>\n",
              "      <td>3</td>\n",
              "      <td>14</td>\n",
              "      <td>16</td>\n",
              "      <td>1</td>\n",
              "    </tr>\n",
              "    <tr>\n",
              "      <th>392</th>\n",
              "      <td>1</td>\n",
              "      <td>0</td>\n",
              "      <td>3</td>\n",
              "      <td>3</td>\n",
              "      <td>10</td>\n",
              "      <td>8</td>\n",
              "      <td>0</td>\n",
              "    </tr>\n",
              "    <tr>\n",
              "      <th>393</th>\n",
              "      <td>1</td>\n",
              "      <td>0</td>\n",
              "      <td>5</td>\n",
              "      <td>0</td>\n",
              "      <td>11</td>\n",
              "      <td>12</td>\n",
              "      <td>1</td>\n",
              "    </tr>\n",
              "    <tr>\n",
              "      <th>394</th>\n",
              "      <td>1</td>\n",
              "      <td>0</td>\n",
              "      <td>5</td>\n",
              "      <td>5</td>\n",
              "      <td>8</td>\n",
              "      <td>9</td>\n",
              "      <td>0</td>\n",
              "    </tr>\n",
              "  </tbody>\n",
              "</table>\n",
              "<p>395 rows × 7 columns</p>\n",
              "</div>\n",
              "      <button class=\"colab-df-convert\" onclick=\"convertToInteractive('df-228865f5-21f7-49bf-9698-6e6e7d0ee2b0')\"\n",
              "              title=\"Convert this dataframe to an interactive table.\"\n",
              "              style=\"display:none;\">\n",
              "        \n",
              "  <svg xmlns=\"http://www.w3.org/2000/svg\" height=\"24px\"viewBox=\"0 0 24 24\"\n",
              "       width=\"24px\">\n",
              "    <path d=\"M0 0h24v24H0V0z\" fill=\"none\"/>\n",
              "    <path d=\"M18.56 5.44l.94 2.06.94-2.06 2.06-.94-2.06-.94-.94-2.06-.94 2.06-2.06.94zm-11 1L8.5 8.5l.94-2.06 2.06-.94-2.06-.94L8.5 2.5l-.94 2.06-2.06.94zm10 10l.94 2.06.94-2.06 2.06-.94-2.06-.94-.94-2.06-.94 2.06-2.06.94z\"/><path d=\"M17.41 7.96l-1.37-1.37c-.4-.4-.92-.59-1.43-.59-.52 0-1.04.2-1.43.59L10.3 9.45l-7.72 7.72c-.78.78-.78 2.05 0 2.83L4 21.41c.39.39.9.59 1.41.59.51 0 1.02-.2 1.41-.59l7.78-7.78 2.81-2.81c.8-.78.8-2.07 0-2.86zM5.41 20L4 18.59l7.72-7.72 1.47 1.35L5.41 20z\"/>\n",
              "  </svg>\n",
              "      </button>\n",
              "      \n",
              "  <style>\n",
              "    .colab-df-container {\n",
              "      display:flex;\n",
              "      flex-wrap:wrap;\n",
              "      gap: 12px;\n",
              "    }\n",
              "\n",
              "    .colab-df-convert {\n",
              "      background-color: #E8F0FE;\n",
              "      border: none;\n",
              "      border-radius: 50%;\n",
              "      cursor: pointer;\n",
              "      display: none;\n",
              "      fill: #1967D2;\n",
              "      height: 32px;\n",
              "      padding: 0 0 0 0;\n",
              "      width: 32px;\n",
              "    }\n",
              "\n",
              "    .colab-df-convert:hover {\n",
              "      background-color: #E2EBFA;\n",
              "      box-shadow: 0px 1px 2px rgba(60, 64, 67, 0.3), 0px 1px 3px 1px rgba(60, 64, 67, 0.15);\n",
              "      fill: #174EA6;\n",
              "    }\n",
              "\n",
              "    [theme=dark] .colab-df-convert {\n",
              "      background-color: #3B4455;\n",
              "      fill: #D2E3FC;\n",
              "    }\n",
              "\n",
              "    [theme=dark] .colab-df-convert:hover {\n",
              "      background-color: #434B5C;\n",
              "      box-shadow: 0px 1px 3px 1px rgba(0, 0, 0, 0.15);\n",
              "      filter: drop-shadow(0px 1px 2px rgba(0, 0, 0, 0.3));\n",
              "      fill: #FFFFFF;\n",
              "    }\n",
              "  </style>\n",
              "\n",
              "      <script>\n",
              "        const buttonEl =\n",
              "          document.querySelector('#df-228865f5-21f7-49bf-9698-6e6e7d0ee2b0 button.colab-df-convert');\n",
              "        buttonEl.style.display =\n",
              "          google.colab.kernel.accessAllowed ? 'block' : 'none';\n",
              "\n",
              "        async function convertToInteractive(key) {\n",
              "          const element = document.querySelector('#df-228865f5-21f7-49bf-9698-6e6e7d0ee2b0');\n",
              "          const dataTable =\n",
              "            await google.colab.kernel.invokeFunction('convertToInteractive',\n",
              "                                                     [key], {});\n",
              "          if (!dataTable) return;\n",
              "\n",
              "          const docLinkHtml = 'Like what you see? Visit the ' +\n",
              "            '<a target=\"_blank\" href=https://colab.research.google.com/notebooks/data_table.ipynb>data table notebook</a>'\n",
              "            + ' to learn more about interactive tables.';\n",
              "          element.innerHTML = '';\n",
              "          dataTable['output_type'] = 'display_data';\n",
              "          await google.colab.output.renderOutput(dataTable, element);\n",
              "          const docLink = document.createElement('div');\n",
              "          docLink.innerHTML = docLinkHtml;\n",
              "          element.appendChild(docLink);\n",
              "        }\n",
              "      </script>\n",
              "    </div>\n",
              "  </div>\n",
              "  "
            ],
            "text/plain": [
              "     studytime  romantic  health  absences  G1  G2  G3\n",
              "0            2         0       3         6   5   6   0\n",
              "1            2         0       3         4   5   5   0\n",
              "2            2         0       3        10   7   8   1\n",
              "3            3         1       5         2  15  14   1\n",
              "4            2         0       5         4   6  10   1\n",
              "..         ...       ...     ...       ...  ..  ..  ..\n",
              "390          2         0       4        11   9   9   0\n",
              "391          1         0       2         3  14  16   1\n",
              "392          1         0       3         3  10   8   0\n",
              "393          1         0       5         0  11  12   1\n",
              "394          1         0       5         5   8   9   0\n",
              "\n",
              "[395 rows x 7 columns]"
            ]
          },
          "execution_count": 19,
          "metadata": {},
          "output_type": "execute_result"
        }
      ],
      "source": [
        "datos"
      ]
    },
    {
      "cell_type": "code",
      "execution_count": 20,
      "metadata": {
        "colab": {
          "base_uri": "https://localhost:8080/",
          "height": 206
        },
        "id": "zFFHOV3T_zAT",
        "outputId": "31033114-9a42-4ec6-80ef-d849f5524c7d"
      },
      "outputs": [
        {
          "data": {
            "text/html": [
              "\n",
              "  <div id=\"df-fddcadfd-7cda-4019-9af0-39e9397e244d\">\n",
              "    <div class=\"colab-df-container\">\n",
              "      <div>\n",
              "<style scoped>\n",
              "    .dataframe tbody tr th:only-of-type {\n",
              "        vertical-align: middle;\n",
              "    }\n",
              "\n",
              "    .dataframe tbody tr th {\n",
              "        vertical-align: top;\n",
              "    }\n",
              "\n",
              "    .dataframe thead th {\n",
              "        text-align: right;\n",
              "    }\n",
              "</style>\n",
              "<table border=\"1\" class=\"dataframe\">\n",
              "  <thead>\n",
              "    <tr style=\"text-align: right;\">\n",
              "      <th></th>\n",
              "      <th>studytime</th>\n",
              "      <th>romantic</th>\n",
              "      <th>health</th>\n",
              "      <th>absences</th>\n",
              "      <th>G1</th>\n",
              "      <th>G2</th>\n",
              "    </tr>\n",
              "  </thead>\n",
              "  <tbody>\n",
              "    <tr>\n",
              "      <th>0</th>\n",
              "      <td>2</td>\n",
              "      <td>0</td>\n",
              "      <td>3</td>\n",
              "      <td>6</td>\n",
              "      <td>5</td>\n",
              "      <td>6</td>\n",
              "    </tr>\n",
              "    <tr>\n",
              "      <th>1</th>\n",
              "      <td>2</td>\n",
              "      <td>0</td>\n",
              "      <td>3</td>\n",
              "      <td>4</td>\n",
              "      <td>5</td>\n",
              "      <td>5</td>\n",
              "    </tr>\n",
              "    <tr>\n",
              "      <th>2</th>\n",
              "      <td>2</td>\n",
              "      <td>0</td>\n",
              "      <td>3</td>\n",
              "      <td>10</td>\n",
              "      <td>7</td>\n",
              "      <td>8</td>\n",
              "    </tr>\n",
              "    <tr>\n",
              "      <th>3</th>\n",
              "      <td>3</td>\n",
              "      <td>1</td>\n",
              "      <td>5</td>\n",
              "      <td>2</td>\n",
              "      <td>15</td>\n",
              "      <td>14</td>\n",
              "    </tr>\n",
              "    <tr>\n",
              "      <th>4</th>\n",
              "      <td>2</td>\n",
              "      <td>0</td>\n",
              "      <td>5</td>\n",
              "      <td>4</td>\n",
              "      <td>6</td>\n",
              "      <td>10</td>\n",
              "    </tr>\n",
              "  </tbody>\n",
              "</table>\n",
              "</div>\n",
              "      <button class=\"colab-df-convert\" onclick=\"convertToInteractive('df-fddcadfd-7cda-4019-9af0-39e9397e244d')\"\n",
              "              title=\"Convert this dataframe to an interactive table.\"\n",
              "              style=\"display:none;\">\n",
              "        \n",
              "  <svg xmlns=\"http://www.w3.org/2000/svg\" height=\"24px\"viewBox=\"0 0 24 24\"\n",
              "       width=\"24px\">\n",
              "    <path d=\"M0 0h24v24H0V0z\" fill=\"none\"/>\n",
              "    <path d=\"M18.56 5.44l.94 2.06.94-2.06 2.06-.94-2.06-.94-.94-2.06-.94 2.06-2.06.94zm-11 1L8.5 8.5l.94-2.06 2.06-.94-2.06-.94L8.5 2.5l-.94 2.06-2.06.94zm10 10l.94 2.06.94-2.06 2.06-.94-2.06-.94-.94-2.06-.94 2.06-2.06.94z\"/><path d=\"M17.41 7.96l-1.37-1.37c-.4-.4-.92-.59-1.43-.59-.52 0-1.04.2-1.43.59L10.3 9.45l-7.72 7.72c-.78.78-.78 2.05 0 2.83L4 21.41c.39.39.9.59 1.41.59.51 0 1.02-.2 1.41-.59l7.78-7.78 2.81-2.81c.8-.78.8-2.07 0-2.86zM5.41 20L4 18.59l7.72-7.72 1.47 1.35L5.41 20z\"/>\n",
              "  </svg>\n",
              "      </button>\n",
              "      \n",
              "  <style>\n",
              "    .colab-df-container {\n",
              "      display:flex;\n",
              "      flex-wrap:wrap;\n",
              "      gap: 12px;\n",
              "    }\n",
              "\n",
              "    .colab-df-convert {\n",
              "      background-color: #E8F0FE;\n",
              "      border: none;\n",
              "      border-radius: 50%;\n",
              "      cursor: pointer;\n",
              "      display: none;\n",
              "      fill: #1967D2;\n",
              "      height: 32px;\n",
              "      padding: 0 0 0 0;\n",
              "      width: 32px;\n",
              "    }\n",
              "\n",
              "    .colab-df-convert:hover {\n",
              "      background-color: #E2EBFA;\n",
              "      box-shadow: 0px 1px 2px rgba(60, 64, 67, 0.3), 0px 1px 3px 1px rgba(60, 64, 67, 0.15);\n",
              "      fill: #174EA6;\n",
              "    }\n",
              "\n",
              "    [theme=dark] .colab-df-convert {\n",
              "      background-color: #3B4455;\n",
              "      fill: #D2E3FC;\n",
              "    }\n",
              "\n",
              "    [theme=dark] .colab-df-convert:hover {\n",
              "      background-color: #434B5C;\n",
              "      box-shadow: 0px 1px 3px 1px rgba(0, 0, 0, 0.15);\n",
              "      filter: drop-shadow(0px 1px 2px rgba(0, 0, 0, 0.3));\n",
              "      fill: #FFFFFF;\n",
              "    }\n",
              "  </style>\n",
              "\n",
              "      <script>\n",
              "        const buttonEl =\n",
              "          document.querySelector('#df-fddcadfd-7cda-4019-9af0-39e9397e244d button.colab-df-convert');\n",
              "        buttonEl.style.display =\n",
              "          google.colab.kernel.accessAllowed ? 'block' : 'none';\n",
              "\n",
              "        async function convertToInteractive(key) {\n",
              "          const element = document.querySelector('#df-fddcadfd-7cda-4019-9af0-39e9397e244d');\n",
              "          const dataTable =\n",
              "            await google.colab.kernel.invokeFunction('convertToInteractive',\n",
              "                                                     [key], {});\n",
              "          if (!dataTable) return;\n",
              "\n",
              "          const docLinkHtml = 'Like what you see? Visit the ' +\n",
              "            '<a target=\"_blank\" href=https://colab.research.google.com/notebooks/data_table.ipynb>data table notebook</a>'\n",
              "            + ' to learn more about interactive tables.';\n",
              "          element.innerHTML = '';\n",
              "          dataTable['output_type'] = 'display_data';\n",
              "          await google.colab.output.renderOutput(dataTable, element);\n",
              "          const docLink = document.createElement('div');\n",
              "          docLink.innerHTML = docLinkHtml;\n",
              "          element.appendChild(docLink);\n",
              "        }\n",
              "      </script>\n",
              "    </div>\n",
              "  </div>\n",
              "  "
            ],
            "text/plain": [
              "   studytime  romantic  health  absences  G1  G2\n",
              "0          2         0       3         6   5   6\n",
              "1          2         0       3         4   5   5\n",
              "2          2         0       3        10   7   8\n",
              "3          3         1       5         2  15  14\n",
              "4          2         0       5         4   6  10"
            ]
          },
          "execution_count": 20,
          "metadata": {},
          "output_type": "execute_result"
        }
      ],
      "source": [
        "#Se obtienen las variables independientes\n",
        "X = datos.drop(['G3'], axis=1)\n",
        "X.head()"
      ]
    },
    {
      "cell_type": "code",
      "execution_count": 22,
      "metadata": {
        "colab": {
          "base_uri": "https://localhost:8080/"
        },
        "id": "6I5BvOIMDZvD",
        "outputId": "6cfb4e8d-ed4d-421f-b111-8b168f9d0d85"
      },
      "outputs": [
        {
          "data": {
            "text/plain": [
              "0      0\n",
              "1      0\n",
              "2      1\n",
              "3      1\n",
              "4      1\n",
              "      ..\n",
              "390    0\n",
              "391    1\n",
              "392    0\n",
              "393    1\n",
              "394    0\n",
              "Name: G3, Length: 395, dtype: int64"
            ]
          },
          "execution_count": 22,
          "metadata": {},
          "output_type": "execute_result"
        }
      ],
      "source": [
        "#Se obtienen las variables depedientes\n",
        "Y=datos.pop('G3')\n",
        "Y"
      ]
    },
    {
      "cell_type": "code",
      "execution_count": 23,
      "metadata": {
        "colab": {
          "base_uri": "https://localhost:8080/"
        },
        "id": "Tnq9ymEm5zNC",
        "outputId": "dc136259-8457-4dfd-c3ed-f69d322cd04a"
      },
      "outputs": [
        {
          "name": "stdout",
          "output_type": "stream",
          "text": [
            "Son 276 datos para entrenamiento y 119 datos para prueba\n"
          ]
        }
      ],
      "source": [
        "# Se separan los datos para ajuste y prueba\n",
        "from sklearn.model_selection import train_test_split\n",
        "X_train, X_test, y_train, y_test = train_test_split(X, Y, test_size = 0.3, random_state = 0)\n",
        "print('Son {} datos para entrenamiento y {} datos para prueba'.format(X_train.shape[0],X_test.shape[0]))\n"
      ]
    },
    {
      "cell_type": "markdown",
      "metadata": {
        "id": "l7TnMnlz6O3g"
      },
      "source": [
        "# **Regresión Logística**\n",
        "\n",
        "Desarrollada por David Cox en 1958, es un método de regresión que permite estimar la probabilidad de una variable cualitativa binaria en función de una variable cuantitativa. Una de las principales aplicaciones de la regresión logística es la de clasificación binaria, en el que las observaciones se clasifican en un grupo u otro dependiendo del valor que tome la variable empleada como predictor. \n",
        "\n",
        "\n",
        "**Ventajas**\n",
        "*   Rara vez existe sobreajuste\n",
        "*   El uso de la regularización es efectivo en la selección de funciones.\n",
        "*   Rápido para entrenar.\n",
        "* Fácil de entrenar sobre grandes datos gracias a su versión estocástica.\n",
        "* Fácil de entender y explicar\n",
        "\n",
        "**Desventajas**\n",
        "\n",
        "\n",
        "*   Tienes que trabajar duro para que se ajuste a los datos no lineales.\n",
        "*   Puede sufrir con valores atípicos.\n",
        "* En algunas ocasiones es muy simple para captar relaciones complejas entre variables."
      ]
    },
    {
      "cell_type": "code",
      "execution_count": 24,
      "metadata": {
        "colab": {
          "base_uri": "https://localhost:8080/"
        },
        "id": "zZhOsMpA6a_M",
        "outputId": "33518e8d-5813-47ab-b31b-e80b0e43e963"
      },
      "outputs": [
        {
          "name": "stdout",
          "output_type": "stream",
          "text": [
            "[1 1 1 1 1 1 1 1 1 1 0 1 1 0 1 1 1 1 0 1]\n",
            "0     0\n",
            "1     0\n",
            "2     1\n",
            "3     1\n",
            "4     1\n",
            "5     1\n",
            "6     1\n",
            "7     0\n",
            "8     1\n",
            "9     1\n",
            "10    0\n",
            "11    1\n",
            "12    1\n",
            "13    1\n",
            "14    1\n",
            "15    1\n",
            "16    1\n",
            "17    1\n",
            "18    0\n",
            "19    1\n",
            "Name: G3, dtype: int64\n"
          ]
        }
      ],
      "source": [
        "# Regresión Logística\n",
        "from warnings import simplefilter\n",
        "simplefilter(action='ignore', category=FutureWarning)\n",
        "from sklearn.linear_model import LogisticRegression\n",
        "classifier = LogisticRegression()# se define el mdelo\n",
        "classifier.fit(X_train, y_train) # se entrena el modelo\n",
        "\n",
        "y_pred = classifier.predict(X_test) # se realiza una prediiccion\n",
        "print((y_pred)[0:20])\n",
        "print(Y.head(20))"
      ]
    },
    {
      "cell_type": "markdown",
      "metadata": {
        "id": "GddiiGxJ7S7l"
      },
      "source": [
        "**Matrix de confusión**\n",
        "\n",
        "Es una herramienta que permite la visualización del desempeño de un algoritmo que se emplea en aprendizaje supervisado.\n",
        "\n",
        "![matrz.PNG](data:image/png;base64,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)\n",
        "\n",
        "\n",
        "\n",
        "* **Verdadero positivo**: El valor real es positivo y  la prueba predijo tambien que era positivo. O bien una persona está enferma y la prueba así lo demuestra.\n",
        "Verdadero negativo: El valor real  es negativo y la prueba predijo tambien que el resultado era negativo. O bien la persona no está enferma y la prueba así lo  demuestra.\n",
        "* **Falso negativo**: El valor real es positivo, y la prueba predijo  que el resultado es negativo. La persona está enferma, pero la prueba dice de manera incorrecta que no lo está. Esto es lo que en estadística se conoce como error tipo II\n",
        "* **Falso positivo**: El valor real es negativo, y la prueba predijo  que el resultado es positivo. La persona no está enferma, pero la prueba nos dice de manera incorrecta que silo está."
      ]
    },
    {
      "cell_type": "code",
      "execution_count": 25,
      "metadata": {
        "colab": {
          "base_uri": "https://localhost:8080/"
        },
        "id": "urLF3WUI8YV8",
        "outputId": "9e4cb5af-4712-40a2-fdb6-4e5757df87b5"
      },
      "outputs": [
        {
          "name": "stdout",
          "output_type": "stream",
          "text": [
            "[[39 11]\n",
            " [ 5 64]]\n"
          ]
        }
      ],
      "source": [
        "print(confusion_matrix(y_test, y_pred))"
      ]
    },
    {
      "cell_type": "code",
      "execution_count": 26,
      "metadata": {
        "colab": {
          "base_uri": "https://localhost:8080/"
        },
        "id": "krkAquts8dwF",
        "outputId": "4aeabed5-faf6-43a7-8ef9-dbe38073ceb3"
      },
      "outputs": [
        {
          "name": "stdout",
          "output_type": "stream",
          "text": [
            "la presición del modelo es de : 0.927536231884058\n",
            "la exactitud del modelo es de : 0.865546218487395\n"
          ]
        }
      ],
      "source": [
        "from sklearn.metrics import precision_score\n",
        "print('la presición del modelo es de :',precision_score(y_pred,y_test))\n",
        "from sklearn.metrics import accuracy_score\n",
        "print('la exactitud del modelo es de :',accuracy_score(y_pred,y_test))"
      ]
    },
    {
      "cell_type": "code",
      "execution_count": 27,
      "metadata": {
        "colab": {
          "base_uri": "https://localhost:8080/"
        },
        "id": "l9pVzkok9a7c",
        "outputId": "0748fece-74c4-4bfb-e871-fb09da8ee639"
      },
      "outputs": [
        {
          "name": "stdout",
          "output_type": "stream",
          "text": [
            "[1 1 1 1 1 1 1 1 1 1 0 1 1 0 1 1 1 1 0 1 0 0 0 1 1 1 1 1 0 1 0 0 0 0 1 1 1\n",
            " 1 1 1 0 1 0 1 1 0 1 0 1 0 0 1 1 0 1 0 1 1 1 1 1 1 1 1 0 1 1 1 0 0 1 1 0 0\n",
            " 0 0 1 1 0 1 0 0 1 1 1 1 1 1 1 0 1 0 1 1 0 0 1 1 1 1 1 1 0 0 0 1 1 0 0 0 0\n",
            " 1 1 0 0 0 1 0 1]\n",
            "[[8.90789972e-06 9.99991092e-01]\n",
            " [2.04803530e-02 9.79519647e-01]\n",
            " [5.63660630e-04 9.99436339e-01]\n",
            " [4.06075830e-04 9.99593924e-01]\n",
            " [9.99999398e-01 6.02467294e-07]\n",
            " [3.49467721e-02 9.65053228e-01]\n",
            " [3.06038785e-06 9.99996940e-01]\n",
            " [2.11056254e-03 9.97889437e-01]\n",
            " [7.68721410e-07 9.99999231e-01]\n",
            " [2.06669692e-01 7.93330308e-01]\n",
            " [7.59345021e-04 9.99240655e-01]\n",
            " [5.72500086e-07 9.99999427e-01]\n",
            " [8.39088397e-01 1.60911603e-01]\n",
            " [1.77022585e-03 9.98229774e-01]\n",
            " [3.98305021e-04 9.99601695e-01]\n",
            " [1.71143261e-01 8.28856739e-01]\n",
            " [8.91571602e-01 1.08428398e-01]\n",
            " [1.13266967e-01 8.86733033e-01]\n",
            " [2.70954025e-02 9.72904597e-01]\n",
            " [6.25265899e-01 3.74734101e-01]\n",
            " [5.93716996e-04 9.99406283e-01]\n",
            " [9.98137385e-01 1.86261486e-03]\n",
            " [1.52864778e-01 8.47135222e-01]\n",
            " [9.83146307e-01 1.68536934e-02]\n",
            " [5.95646221e-01 4.04353779e-01]\n",
            " [4.48918291e-04 9.99551082e-01]\n",
            " [1.00352766e-02 9.89964723e-01]\n",
            " [3.88839957e-06 9.99996112e-01]\n",
            " [5.01211946e-04 9.99498788e-01]\n",
            " [1.12831777e-03 9.98871682e-01]\n",
            " [1.69370102e-02 9.83062990e-01]\n",
            " [9.99999370e-01 6.29529179e-07]\n",
            " [2.09025056e-04 9.99790975e-01]\n",
            " [1.61559683e-01 8.38440317e-01]\n",
            " [7.18977503e-03 9.92810225e-01]\n",
            " [8.66687884e-04 9.99133312e-01]\n",
            " [9.98979900e-01 1.02010005e-03]\n",
            " [1.51799154e-02 9.84820085e-01]\n",
            " [1.09514641e-01 8.90485359e-01]\n",
            " [9.98646414e-01 1.35358598e-03]\n",
            " [4.29824554e-05 9.99957018e-01]\n",
            " [1.93271733e-03 9.98067283e-01]\n",
            " [6.03977943e-01 3.96022057e-01]\n",
            " [7.14961439e-01 2.85038561e-01]\n",
            " [4.98214380e-01 5.01785620e-01]\n",
            " [7.53090288e-01 2.46909712e-01]\n",
            " [7.35119997e-07 9.99999265e-01]\n",
            " [9.99164709e-01 8.35291332e-04]\n",
            " [9.96171441e-01 3.82855902e-03]\n",
            " [3.61411416e-01 6.38588584e-01]\n",
            " [3.92405368e-03 9.96075946e-01]\n",
            " [4.81227243e-03 9.95187728e-01]\n",
            " [7.42225010e-01 2.57774990e-01]\n",
            " [9.97684953e-01 2.31504741e-03]\n",
            " [1.19944686e-01 8.80055314e-01]\n",
            " [1.30229931e-03 9.98697701e-01]\n",
            " [9.99999803e-01 1.97407329e-07]\n",
            " [1.14478653e-04 9.99885521e-01]\n",
            " [3.27370284e-08 9.99999967e-01]\n",
            " [8.62570334e-07 9.99999137e-01]\n",
            " [1.44434569e-02 9.85556543e-01]\n",
            " [4.22225000e-01 5.77775000e-01]\n",
            " [5.34526489e-02 9.46547351e-01]\n",
            " [6.86350967e-04 9.99313649e-01]\n",
            " [5.54414534e-01 4.45585466e-01]\n",
            " [2.45228140e-01 7.54771860e-01]\n",
            " [5.20409903e-07 9.99999480e-01]\n",
            " [8.99415740e-01 1.00584260e-01]\n",
            " [9.68191488e-01 3.18085124e-02]\n",
            " [6.48550031e-04 9.99351450e-01]\n",
            " [5.22038345e-04 9.99477962e-01]\n",
            " [8.54765816e-04 9.99145234e-01]\n",
            " [5.42653174e-01 4.57346826e-01]\n",
            " [1.99899356e-03 9.98001006e-01]\n",
            " [9.23278055e-01 7.67219452e-02]\n",
            " [5.17464939e-01 4.82535061e-01]\n",
            " [3.26949691e-01 6.73050309e-01]\n",
            " [8.97347922e-02 9.10265208e-01]\n",
            " [8.77191253e-01 1.22808747e-01]\n",
            " [9.26055912e-01 7.39440885e-02]\n",
            " [8.11263596e-01 1.88736404e-01]\n",
            " [3.30322520e-03 9.96696775e-01]\n",
            " [5.77525531e-01 4.22474469e-01]\n",
            " [5.71632333e-01 4.28367667e-01]\n",
            " [2.02030481e-01 7.97969519e-01]\n",
            " [8.59096140e-04 9.99140904e-01]\n",
            " [1.69761790e-08 9.99999983e-01]\n",
            " [4.63092333e-02 9.53690767e-01]\n",
            " [2.51733536e-01 7.48266464e-01]\n",
            " [1.08837004e-01 8.91162996e-01]\n",
            " [3.31627490e-02 9.66837251e-01]\n",
            " [4.39997220e-01 5.60002780e-01]\n",
            " [9.99999789e-01 2.10573299e-07]\n",
            " [5.26249334e-01 4.73750666e-01]\n",
            " [9.99316439e-01 6.83561421e-04]\n",
            " [9.51225688e-01 4.87743116e-02]\n",
            " [9.99580349e-01 4.19650513e-04]\n",
            " [8.18782091e-03 9.91812179e-01]\n",
            " [7.64840463e-03 9.92351595e-01]\n",
            " [2.70570188e-01 7.29429812e-01]\n",
            " [8.61357893e-02 9.13864211e-01]\n",
            " [3.59116292e-03 9.96408837e-01]\n",
            " [9.90784899e-01 9.21510110e-03]\n",
            " [3.40233785e-05 9.99965977e-01]\n",
            " [1.16877075e-02 9.88312292e-01]\n",
            " [9.91554958e-01 8.44504244e-03]\n",
            " [2.46793644e-08 9.99999975e-01]\n",
            " [7.61613015e-01 2.38386985e-01]\n",
            " [8.69570494e-06 9.99991304e-01]\n",
            " [4.82080909e-01 5.17919091e-01]\n",
            " [5.61708633e-01 4.38291367e-01]\n",
            " [9.84986437e-01 1.50135627e-02]\n",
            " [9.99485896e-01 5.14104178e-04]\n",
            " [9.75125375e-01 2.48746249e-02]\n",
            " [3.36852751e-01 6.63147249e-01]\n",
            " [9.78412077e-01 2.15879231e-02]\n",
            " [2.90632918e-09 9.99999997e-01]\n",
            " [3.17075654e-01 6.82924346e-01]\n",
            " [6.96035151e-01 3.03964849e-01]\n",
            " [2.81410867e-01 7.18589133e-01]\n",
            " [1.36090050e-04 9.99863910e-01]\n",
            " [1.10640840e-02 9.88935916e-01]\n",
            " [5.16595006e-01 4.83404994e-01]\n",
            " [3.30227059e-05 9.99966977e-01]\n",
            " [3.01997094e-02 9.69800291e-01]\n",
            " [8.97339682e-01 1.02660318e-01]\n",
            " [4.79429160e-03 9.95205708e-01]\n",
            " [5.57499399e-07 9.99999443e-01]\n",
            " [3.99207742e-03 9.96007923e-01]\n",
            " [4.18896663e-01 5.81103337e-01]\n",
            " [2.86831772e-01 7.13168228e-01]\n",
            " [1.05049366e-05 9.99989495e-01]\n",
            " [4.36327404e-06 9.99995637e-01]\n",
            " [7.37997935e-01 2.62002065e-01]\n",
            " [4.23231179e-04 9.99576769e-01]\n",
            " [9.94813151e-01 5.18684935e-03]\n",
            " [1.83497260e-01 8.16502740e-01]\n",
            " [9.99829582e-01 1.70417766e-04]\n",
            " [1.39281100e-04 9.99860719e-01]\n",
            " [1.01587697e-01 8.98412303e-01]\n",
            " [8.25754156e-06 9.99991742e-01]\n",
            " [1.75561254e-03 9.98244387e-01]\n",
            " [1.35107734e-04 9.99864892e-01]\n",
            " [1.37651247e-02 9.86234875e-01]\n",
            " [1.71662963e-04 9.99828337e-01]\n",
            " [7.08529213e-02 9.29147079e-01]\n",
            " [6.06338233e-04 9.99393662e-01]\n",
            " [8.30549966e-01 1.69450034e-01]\n",
            " [2.36184595e-08 9.99999976e-01]\n",
            " [6.78093011e-02 9.32190699e-01]\n",
            " [2.25830070e-07 9.99999774e-01]\n",
            " [3.05958522e-04 9.99694041e-01]\n",
            " [2.30053237e-03 9.97699468e-01]\n",
            " [5.71218593e-05 9.99942878e-01]\n",
            " [9.43555967e-03 9.90564440e-01]\n",
            " [8.10934793e-04 9.99189065e-01]\n",
            " [9.56125954e-01 4.38740461e-02]\n",
            " [5.39791414e-01 4.60208586e-01]\n",
            " [3.13199463e-06 9.99996868e-01]\n",
            " [4.46875684e-01 5.53124316e-01]\n",
            " [1.39914334e-01 8.60085666e-01]\n",
            " [2.56867447e-03 9.97431326e-01]\n",
            " [6.44532267e-01 3.55467733e-01]\n",
            " [4.58269413e-04 9.99541731e-01]\n",
            " [9.91970997e-01 8.02900302e-03]\n",
            " [1.26782228e-01 8.73217772e-01]\n",
            " [9.98587311e-03 9.90014127e-01]\n",
            " [5.83861539e-06 9.99994161e-01]\n",
            " [1.01494986e-02 9.89850501e-01]\n",
            " [9.93775995e-07 9.99999006e-01]\n",
            " [1.18958281e-01 8.81041719e-01]\n",
            " [9.25459379e-04 9.99074541e-01]\n",
            " [9.99999636e-01 3.64408836e-07]\n",
            " [1.09958807e-05 9.99989004e-01]\n",
            " [3.61079860e-04 9.99638920e-01]\n",
            " [5.77814914e-01 4.22185086e-01]\n",
            " [9.96907804e-01 3.09219619e-03]\n",
            " [1.88458063e-01 8.11541937e-01]\n",
            " [6.89396239e-01 3.10603761e-01]\n",
            " [4.51247540e-05 9.99954875e-01]\n",
            " [1.37651247e-02 9.86234875e-01]\n",
            " [7.28568070e-01 2.71431930e-01]\n",
            " [7.82320253e-03 9.92176797e-01]\n",
            " [3.32635124e-03 9.96673649e-01]\n",
            " [9.45410723e-03 9.90545893e-01]\n",
            " [4.08603384e-01 5.91396616e-01]\n",
            " [2.62007234e-05 9.99973799e-01]\n",
            " [5.59402743e-05 9.99944060e-01]\n",
            " [7.91444580e-06 9.99992086e-01]\n",
            " [1.73601072e-03 9.98263989e-01]\n",
            " [8.90789972e-06 9.99991092e-01]\n",
            " [4.47676318e-03 9.95523237e-01]\n",
            " [9.16024130e-03 9.90839759e-01]\n",
            " [1.06201925e-02 9.89379807e-01]\n",
            " [9.91554958e-01 8.44504244e-03]\n",
            " [1.62289044e-05 9.99983771e-01]\n",
            " [8.40990975e-01 1.59009025e-01]\n",
            " [9.99999350e-01 6.50098123e-07]\n",
            " [9.51832527e-01 4.81674725e-02]\n",
            " [1.50532245e-03 9.98494678e-01]\n",
            " [3.14338158e-03 9.96856618e-01]\n",
            " [9.94577743e-01 5.42225676e-03]\n",
            " [1.23727351e-01 8.76272649e-01]\n",
            " [1.99158433e-04 9.99800842e-01]\n",
            " [8.75029202e-03 9.91249708e-01]\n",
            " [2.10542569e-03 9.97894574e-01]\n",
            " [7.70625851e-08 9.99999923e-01]\n",
            " [9.96886251e-01 3.11374912e-03]\n",
            " [8.37207722e-02 9.16279228e-01]\n",
            " [1.63014465e-04 9.99836986e-01]\n",
            " [1.25536835e-05 9.99987446e-01]\n",
            " [1.30264898e-05 9.99986974e-01]\n",
            " [4.84657741e-01 5.15342259e-01]\n",
            " [1.85690038e-02 9.81430996e-01]\n",
            " [9.64991833e-01 3.50081668e-02]\n",
            " [2.22455021e-08 9.99999978e-01]\n",
            " [1.28964901e-01 8.71035099e-01]\n",
            " [4.79983268e-06 9.99995200e-01]\n",
            " [3.64533922e-05 9.99963547e-01]\n",
            " [3.39465666e-05 9.99966053e-01]\n",
            " [5.73845912e-03 9.94261541e-01]\n",
            " [8.20602359e-02 9.17939764e-01]\n",
            " [1.61371254e-05 9.99983863e-01]\n",
            " [9.99495228e-01 5.04772164e-04]\n",
            " [3.24717377e-02 9.67528262e-01]\n",
            " [2.04105819e-02 9.79589418e-01]\n",
            " [9.40768180e-01 5.92318195e-02]\n",
            " [3.74309521e-02 9.62569048e-01]\n",
            " [4.40696380e-04 9.99559304e-01]\n",
            " [9.99999870e-01 1.30144206e-07]\n",
            " [3.50358806e-01 6.49641194e-01]\n",
            " [9.02033675e-07 9.99999098e-01]\n",
            " [1.25228054e-06 9.99998748e-01]\n",
            " [8.81216100e-01 1.18783900e-01]\n",
            " [5.91305866e-03 9.94086941e-01]\n",
            " [9.85215976e-01 1.47840239e-02]\n",
            " [8.04988398e-05 9.99919501e-01]\n",
            " [3.79414416e-03 9.96205856e-01]\n",
            " [2.35223461e-02 9.76477654e-01]\n",
            " [6.03531280e-02 9.39646872e-01]\n",
            " [9.58447643e-02 9.04155236e-01]\n",
            " [9.99242520e-01 7.57479806e-04]\n",
            " [6.68108343e-01 3.31891657e-01]\n",
            " [2.30854849e-05 9.99976915e-01]\n",
            " [3.28025351e-05 9.99967197e-01]\n",
            " [3.00891563e-01 6.99108437e-01]\n",
            " [8.90914024e-04 9.99109086e-01]\n",
            " [8.90789972e-06 9.99991092e-01]\n",
            " [2.11557010e-07 9.99999788e-01]\n",
            " [9.95341402e-01 4.65859756e-03]\n",
            " [8.21600776e-01 1.78399224e-01]\n",
            " [6.41133298e-01 3.58866702e-01]\n",
            " [9.97872052e-03 9.90021279e-01]\n",
            " [8.56902208e-01 1.43097792e-01]\n",
            " [1.46314530e-01 8.53685470e-01]\n",
            " [2.29748897e-02 9.77025110e-01]\n",
            " [9.93690750e-01 6.30924995e-03]\n",
            " [1.38125002e-04 9.99861875e-01]\n",
            " [4.26217511e-01 5.73782489e-01]\n",
            " [1.06880543e-03 9.98931195e-01]\n",
            " [1.15383492e-01 8.84616508e-01]\n",
            " [5.92664362e-05 9.99940734e-01]\n",
            " [1.05032184e-04 9.99894968e-01]\n",
            " [6.80637359e-03 9.93193626e-01]\n",
            " [9.99999385e-01 6.15022641e-07]\n",
            " [4.94836313e-01 5.05163687e-01]\n",
            " [5.44545403e-03 9.94554546e-01]\n",
            " [1.02986842e-05 9.99989701e-01]\n",
            " [1.26679706e-06 9.99998733e-01]\n",
            " [1.42974648e-05 9.99985703e-01]\n",
            " [1.85323784e-01 8.14676216e-01]\n",
            " [2.01721355e-04 9.99798279e-01]\n",
            " [9.30307722e-01 6.96922780e-02]\n",
            " [3.30571252e-05 9.99966943e-01]\n",
            " [1.39421479e-08 9.99999986e-01]\n",
            " [9.64922870e-03 9.90350771e-01]]\n"
          ]
        }
      ],
      "source": [
        "print(y_pred)\n",
        "a=classifier.predict_proba(X_train)\n",
        "print(a)"
      ]
    },
    {
      "cell_type": "code",
      "execution_count": 28,
      "metadata": {
        "id": "PvyOB1ilVOdv"
      },
      "outputs": [],
      "source": [
        "#Se guarda el modelo en el repositorio\n",
        "\n",
        "import pickle\n",
        "pkl_filename='Regresión_Logistica.pkl'\n",
        "with open(pkl_filename, 'wb')as file:\n",
        "  pickle.dump(classifier,file)"
      ]
    },
    {
      "cell_type": "code",
      "execution_count": 29,
      "metadata": {
        "colab": {
          "base_uri": "https://localhost:8080/"
        },
        "id": "xBrV81-jHyyU",
        "outputId": "967f1759-1c50-4b91-c2b9-8a4e1ac9dfdd"
      },
      "outputs": [
        {
          "name": "stdout",
          "output_type": "stream",
          "text": [
            "1\n",
            "[0.21745606 0.78254394]\n"
          ]
        }
      ],
      "source": [
        "x_in=np.asarray([2,1,5,10,10,10]).reshape(1,-1)\n",
        "predict=classifier.predict(x_in)\n",
        "print(predict[0])\n",
        "a=classifier.predict_proba(x_in)\n",
        "print(*a)"
      ]
    },
    {
      "cell_type": "markdown",
      "metadata": {
        "id": "RDFnkg-xiy99"
      },
      "source": [
        "# **Naive Bayes**\n",
        "\n",
        "Naive Bayes o el Ingenuo Bayes es uno de los algoritmos más simples y poderosos para la clasificación basado en el Teorema de Bayes con una suposición de independencia entre los predictores. Naive Bayes es fácil de construir y particularmente útil para conjuntos de datos muy grandes.\n",
        "\n",
        "El clasificador Naive Bayes asume que el efecto de una característica particular en una clase es independiente de otras características. \n",
        "\n",
        "**Ventajas**\n",
        "\n",
        "* Es fácil y rápido predecir la clase de conjunto de datos de prueba. También funciona bien en la predicción multiclase.\n",
        "* Cuando se mantiene la suposición de independencia, un clasificador Naive Bayes funciona mejor en comparación con otros modelos como la Regresión Logística y se necesitan menos datos de entrenamiento.\n",
        "* Funciona bien en el caso de variables de entrada categóricas comparada con variables numéricas.\n",
        "\n",
        "**Desventajas**\n",
        "\n",
        "Si la variable categórica tiene una categoría en el conjunto de datos de prueba, que no se observó en el conjunto de datos de entrenamiento, el modelo asignará una probabilidad de 0 y no podrá hacer una predicción. Esto se conoce a menudo como frecuencia cero. Para resolver esto, podemos utilizar la técnica de alisamiento.\n",
        "Otra limitación de Naive Bayes es la asunción de predictores independientes. En la vida real, es casi imposible que obtengamos un conjunto de predictores que sean completamente independientes.\n",
        "Naive Bayes es el algoritmo más sencillo y potente. A pesar de los significativos avances de Machine Learning en los últimos años, ha demostrado su valía. Se ha implementado con éxito en muchas aplicaciones, desde el análisis de texto hasta los motores de recomendación."
      ]
    },
    {
      "cell_type": "code",
      "execution_count": 30,
      "metadata": {
        "colab": {
          "base_uri": "https://localhost:8080/"
        },
        "id": "OsT4KI5fi19v",
        "outputId": "dfea19c2-dfaf-4768-9687-7b4c0235e6cd"
      },
      "outputs": [
        {
          "name": "stdout",
          "output_type": "stream",
          "text": [
            "[[34 16]\n",
            " [ 4 65]]\n",
            "la presición del modelo es de : 0.9420289855072463\n",
            "la exactitud del modelo es de : 0.8319327731092437\n"
          ]
        }
      ],
      "source": [
        "# Support Vector Machine's \n",
        "\n",
        "from warnings import simplefilter\n",
        "simplefilter(action='ignore', category=FutureWarning)\n",
        "from sklearn.svm import SVC\n",
        "\n",
        "bayes = SVC(probability=True)\n",
        "bayes.fit(X_train, y_train)\n",
        "\n",
        "y_pred = bayes.predict(X_test)\n",
        "\n",
        "# Resumen de las predicciones hechas por el clasificador\n",
        "#print(classification_report(y_test, y_pred))\n",
        "print(confusion_matrix(y_test, y_pred))\n",
        "#Precision del modelo\n",
        "from sklearn.metrics import precision_score\n",
        "print('la presición del modelo es de :',precision_score(y_pred,y_test))\n",
        "\n",
        "# Exactitud del modelo\n",
        "from sklearn.metrics import accuracy_score\n",
        "print('la exactitud del modelo es de :',accuracy_score(y_pred,y_test))\n",
        "\n"
      ]
    },
    {
      "cell_type": "code",
      "execution_count": 31,
      "metadata": {
        "colab": {
          "base_uri": "https://localhost:8080/"
        },
        "id": "w8TNaQM397FV",
        "outputId": "096b8735-fdea-481d-f67b-442a311f04f3"
      },
      "outputs": [
        {
          "name": "stdout",
          "output_type": "stream",
          "text": [
            "1\n",
            "[0.22610468 0.77389532]\n"
          ]
        }
      ],
      "source": [
        "x_in=np.asarray([2,1,5,10,10,10]).reshape(1,-1)\n",
        "predict=bayes.predict(x_in)\n",
        "print(predict[0])\n",
        "b=bayes.predict_proba(x_in)\n",
        "print(*b)"
      ]
    },
    {
      "cell_type": "code",
      "execution_count": 32,
      "metadata": {
        "id": "FBBRjI5x9_8x"
      },
      "outputs": [],
      "source": [
        "pkl_filename='Naive_Bayes.pkl'\n",
        "with open(pkl_filename, 'wb')as file:\n",
        "  pickle.dump(bayes,file)"
      ]
    }
  ],
  "metadata": {
    "colab": {
      "collapsed_sections": [],
      "include_colab_link": true,
      "name": "Proyecto_AED.ipynb",
      "provenance": []
    },
    "kernelspec": {
      "display_name": "Python 3",
      "name": "python3"
    },
    "language_info": {
      "name": "python"
    }
  },
  "nbformat": 4,
  "nbformat_minor": 0
}
